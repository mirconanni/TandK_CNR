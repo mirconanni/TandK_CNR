{
 "cells": [
  {
   "cell_type": "markdown",
   "metadata": {},
   "source": [
    "# GEOGRAPHICAL PARTITION"
   ]
  },
  {
   "cell_type": "code",
   "execution_count": null,
   "metadata": {},
   "outputs": [],
   "source": [
    "stop = \"5\""
   ]
  },
  {
   "cell_type": "markdown",
   "metadata": {},
   "source": [
    "### IMPORT LIBRARIES"
   ]
  },
  {
   "cell_type": "code",
   "execution_count": null,
   "metadata": {},
   "outputs": [],
   "source": [
    "# folium allows to visualize geolocalized data with the jupyter notebook\n",
    "import folium\n",
    "from folium.plugins import MarkerCluster\n",
    "# pandas is needed to read the csv file and to perform some basic operations on dataframes\n",
    "import pandas as pd\n",
    "# matplotlib is used to draw graphs\n",
    "import matplotlib.pyplot as plt\n",
    "# module for different stats\n",
    "from statistics import mean "
   ]
  },
  {
   "cell_type": "markdown",
   "metadata": {},
   "source": [
    "**Read the dataset containing the areas**"
   ]
  },
  {
   "cell_type": "code",
   "execution_count": null,
   "metadata": {},
   "outputs": [],
   "source": [
    "df = pd.read_csv('../../../datasets/in/Traj'+stop+'min/vehicle_areas.csv') \n",
    "print (\"The dataset contains\", len(df), \"vehicles.\")"
   ]
  },
  {
   "cell_type": "code",
   "execution_count": null,
   "metadata": {},
   "outputs": [],
   "source": [
    "df.head(5)"
   ]
  },
  {
   "cell_type": "code",
   "execution_count": null,
   "metadata": {},
   "outputs": [],
   "source": [
    "print(\"The number of different areas are\", len(df['area'].unique()))"
   ]
  },
  {
   "cell_type": "code",
   "execution_count": null,
   "metadata": {
    "scrolled": false
   },
   "outputs": [],
   "source": [
    "print(\"The 15 most frequent areas are the following.\")\n",
    "df['area'].value_counts()[:15]"
   ]
  },
  {
   "cell_type": "code",
   "execution_count": null,
   "metadata": {},
   "outputs": [],
   "source": [
    "fig = plt.figure(figsize=(7, 7)) \n",
    "fig_dims = (1, 1)\n",
    "\n",
    "labels =  [\" \"] * len(df['area'].value_counts())\n",
    "labels[:12] = df['area'].value_counts()[:12].index.tolist()\n",
    "\n",
    "explode = [0.05] * len(df['area'].value_counts())\n",
    "explode[0:12] = [0] * 12\n",
    "\n",
    "def define_autopct(values):\n",
    "    def my_autopct(pct):\n",
    "        total = sum(values)\n",
    "        val = int(round(pct*total/100.0))\n",
    "        if pct > 1.33:\n",
    "            return '{p:.1f}%'.format(p=pct)\n",
    "        else:\n",
    "            return ' '\n",
    "    return my_autopct\n",
    "\n",
    "c=['#85c198', '#aed886', '#f2e880', '#9fb2c3', '#7e88ba']\n",
    "\n",
    "ax = plt.subplot2grid(fig_dims, (0, 0))\n",
    "inside, texts, ltexts = ax.pie(df['area'].value_counts(), explode=explode, autopct=define_autopct(df['area'].value_counts()), pctdistance=0.85, labels=labels, shadow=True, startangle=90, counterclock=False, colors=c)\n",
    "for i in range(len(texts)):\n",
    "    texts[i].set_fontsize(13)\n",
    "    ltexts[i].set_fontsize(13)\n",
    "ax.axis('equal')\n",
    "\n",
    "plt.savefig('../../../thesis/images/Areas_pie.png', format='png', bbox_inches='tight')"
   ]
  },
  {
   "cell_type": "code",
   "execution_count": null,
   "metadata": {},
   "outputs": [],
   "source": [
    "def center_point(list_point):\n",
    "    # compute the mean point out of a list\n",
    "    sum_p = 0\n",
    "    for i in list_point:\n",
    "        sum_p += i\n",
    "    c = sum_p / len(list_point)\n",
    "    return c"
   ]
  },
  {
   "cell_type": "code",
   "execution_count": null,
   "metadata": {},
   "outputs": [],
   "source": [
    "def compute_list_points(df):\n",
    "    # takes from the dataset the 4 list of coordinates\n",
    "    list_bottom_y = list(df[\"bottom_left_y\"])\n",
    "    list_bottom_x = list(df[\"bottom_left_x\"])\n",
    "    list_top_y = list(df[\"top_right_y\"])\n",
    "    list_top_x = list(df[\"top_right_x\"])\n",
    "    return list_bottom_y, list_bottom_x, list_top_y, list_top_x"
   ]
  },
  {
   "cell_type": "code",
   "execution_count": null,
   "metadata": {},
   "outputs": [],
   "source": [
    "def compute_center_map(list_bottom_y, list_bottom_x, list_top_y, list_top_x):\n",
    "    # compute the approximate center of all the rectangles\n",
    "    c_by = mean(list_bottom_y)\n",
    "    c_bx = mean(list_bottom_x)\n",
    "    c_ty = mean(list_top_y)\n",
    "    c_tx = mean(list_top_x)\n",
    "    \n",
    "    c_y = (c_by + c_ty) / 2 \n",
    "    c_x = (c_bx + c_tx) / 2 \n",
    "    return c_y, c_x"
   ]
  },
  {
   "cell_type": "markdown",
   "metadata": {},
   "source": [
    "### AREA 3 (WHOLE GREECE)"
   ]
  },
  {
   "cell_type": "code",
   "execution_count": null,
   "metadata": {},
   "outputs": [],
   "source": [
    "id_area = 3\n",
    "df_p = df[df[\"area\"] == id_area]\n",
    "print(\"The number of vehicles in that area is\", len(df_p))\n",
    "list_bottom_y, list_bottom_x, list_top_y, list_top_x = compute_list_points(df_p)\n",
    "#c_y, c_x = compute_center_map(list_bottom_y, list_bottom_x, list_top_y, list_top_x)\n",
    "\n",
    "colors = ['gray', 'orange', 'green', 'lightred', 'darkgreen', 'darkblue', 'darkred', 'pink', \n",
    "          'lightgrayblack', 'lightblue', 'cadetblue', 'darkpurple', 'lightgreen', 'purple', 'blue', 'red', 'beige']\n",
    "\n",
    "m = folium.Map(location=[39.2,24.3], zoom_start=6)\n",
    "for i in range(len(df_p)):\n",
    "    r = folium.Rectangle([[list_bottom_y[i], list_bottom_x[i]], [list_top_y[i], list_top_x[i]]], color=colors[i%17], fill_opacity=0.1, fill=True, weight=0.5)\n",
    "    m.add_child(r)\n",
    "    \n",
    "folium.map.Marker([43.5, 32], \n",
    "    icon=folium.features.DivIcon(icon_size=(300,36), icon_anchor=(0,0),\n",
    "                                 html='<div style=\"font-size: 48pt\">AREA '+str(id_area)\n",
    "                                 +'</div>')).add_to(m)\n",
    "m"
   ]
  },
  {
   "cell_type": "code",
   "execution_count": null,
   "metadata": {},
   "outputs": [],
   "source": [
    "n_van = len(df_p[df_p[\"vehicletype\"] == \"Van\"])\n",
    "n_fridge = len(df_p[df_p[\"vehicletype\"] == \"Fridge truck\"])\n",
    "n_truck = len(df_p[df_p[\"vehicletype\"] == \"Truck\"])\n",
    "n_truck3ax = len(df_p[df_p[\"vehicletype\"] == \"Truck 3 ax.\"])\n",
    "n_truck3 = len(df_p[df_p[\"vehicletype\"] == \"Truck 3\"])\n",
    "n_flat = len(df_p[df_p[\"vehicletype\"] == \"Flatbedtruck\"])\n",
    "\n",
    "sizes = [n_van, n_fridge, n_truck, n_truck3ax, n_truck3, n_flat]\n",
    "\n",
    "fig = plt.figure(figsize=(7, 7)) \n",
    "\n",
    "ax = plt.subplot2grid(fig_dims, (0, 0))\n",
    "labels = 'Van', 'Fridge truck', 'Truck', 'Truck 3 ax.', 'Truck 3', 'Flatbedtruck'\n",
    "#explode = (0.01, 0.05, 0.1, 0.2, )\n",
    "c = [\"#69A2B0\", \"#659157\", \"#FFCAB1\", \"#EAC435\", \"#A1C084\", \"#E05263\", \"#5D2E46\"]\n",
    "inside, texts, ltexts = ax.pie(sizes, labels=labels, autopct='%1.1f%%', shadow=True, startangle=50, colors=c)\n",
    "for i in range(len(texts)):\n",
    "    texts[i].set_fontsize(13)\n",
    "    ltexts[i].set_fontsize(13)\n",
    "ax.axis('equal') "
   ]
  },
  {
   "cell_type": "markdown",
   "metadata": {},
   "source": [
    "### AREA 2 (ATHENS AND SURROUNDINGS)"
   ]
  },
  {
   "cell_type": "code",
   "execution_count": null,
   "metadata": {},
   "outputs": [],
   "source": [
    "id_area = 2\n",
    "df_p = df[df[\"area\"] == id_area]\n",
    "print(\"The number of vehicles in that area is\", len(df_p))\n",
    "list_bottom_y, list_bottom_x, list_top_y, list_top_x = compute_list_points(df_p)\n",
    "#c_y, c_x = compute_center_map(list_bottom_y, list_bottom_x, list_top_y, list_top_x)\n",
    "\n",
    "colors = ['gray', 'orange', 'green', 'lightred', 'darkgreen', 'darkblue', 'darkred', 'pink', \n",
    "          'lightgrayblack', 'lightblue', 'cadetblue', 'darkpurple', 'lightgreen', 'purple', 'blue', 'red', 'beige']\n",
    "\n",
    "m = folium.Map(location=[39.2,24.3], zoom_start=6)\n",
    "for i in range(len(df_p)):\n",
    "    r = folium.Rectangle([[list_bottom_y[i], list_bottom_x[i]], [list_top_y[i], list_top_x[i]]], color=colors[i%17], fill_opacity=0.1, fill=True, weight=0.5)\n",
    "    m.add_child(r)\n",
    "    \n",
    "folium.map.Marker([43.5, 32], \n",
    "    icon=folium.features.DivIcon(icon_size=(300,36), icon_anchor=(0,0),\n",
    "                                 html='<div style=\"font-size: 48pt\">AREA '+str(id_area)\n",
    "                                 +'</div>')).add_to(m)\n",
    "m"
   ]
  },
  {
   "cell_type": "code",
   "execution_count": null,
   "metadata": {},
   "outputs": [],
   "source": [
    "n_van = len(df_p[df_p[\"vehicletype\"] == \"Van\"])\n",
    "n_fridge = len(df_p[df_p[\"vehicletype\"] == \"Fridge truck\"])\n",
    "n_truck = len(df_p[df_p[\"vehicletype\"] == \"Truck\"])\n",
    "n_truck3ax = len(df_p[df_p[\"vehicletype\"] == \"Truck 3 ax.\"])\n",
    "n_truck3 = len(df_p[df_p[\"vehicletype\"] == \"Truck 3\"])\n",
    "n_flat = len(df_p[df_p[\"vehicletype\"] == \"Flatbedtruck\"])\n",
    "\n",
    "sizes = [n_van, n_fridge, n_truck, n_truck3ax, n_truck3, n_flat]\n",
    "\n",
    "fig = plt.figure(figsize=(7, 7)) \n",
    "\n",
    "ax = plt.subplot2grid(fig_dims, (0, 0))\n",
    "labels = 'Van', 'Fridge truck', 'Truck', 'Truck 3 ax.', 'Truck 3', 'Flatbedtruck'\n",
    "#explode = (0.01, 0.05, 0.1, 0.2, )\n",
    "c = [\"#69A2B0\", \"#659157\", \"#FFCAB1\", \"#EAC435\", \"#A1C084\", \"#E05263\", \"#5D2E46\"]\n",
    "inside, texts, ltexts = ax.pie(sizes, labels=labels, autopct='%1.1f%%', shadow=True, startangle=50, colors=c)\n",
    "for i in range(len(texts)):\n",
    "    texts[i].set_fontsize(13)\n",
    "    ltexts[i].set_fontsize(13)\n",
    "ax.axis('equal') "
   ]
  },
  {
   "cell_type": "markdown",
   "metadata": {},
   "source": [
    "### AREA 6 (WHOLE ALBANY)"
   ]
  },
  {
   "cell_type": "code",
   "execution_count": null,
   "metadata": {},
   "outputs": [],
   "source": [
    "id_area = 6\n",
    "df_p = df[df[\"area\"] == id_area]\n",
    "print(\"The number of vehicles in that area is\", len(df_p))\n",
    "list_bottom_y, list_bottom_x, list_top_y, list_top_x = compute_list_points(df_p)\n",
    "#c_y, c_x = compute_center_map(list_bottom_y, list_bottom_x, list_top_y, list_top_x)\n",
    "\n",
    "colors = ['gray', 'orange', 'green', 'lightred', 'darkgreen', 'darkblue', 'darkred', 'pink', \n",
    "          'lightgrayblack', 'lightblue', 'cadetblue', 'darkpurple', 'lightgreen', 'purple', 'blue', 'red', 'beige']\n",
    "\n",
    "m = folium.Map(location=[39.2,24.3], zoom_start=6)\n",
    "for i in range(len(df_p)):\n",
    "    r = folium.Rectangle([[list_bottom_y[i], list_bottom_x[i]], [list_top_y[i], list_top_x[i]]], color=colors[i%17], fill_opacity=0.1, fill=True, weight=0.5)\n",
    "    m.add_child(r)\n",
    "    \n",
    "folium.map.Marker([43.5, 32], \n",
    "    icon=folium.features.DivIcon(icon_size=(300,36), icon_anchor=(0,0),\n",
    "                                 html='<div style=\"font-size: 48pt\">AREA '+str(id_area)\n",
    "                                 +'</div>')).add_to(m)\n",
    "m"
   ]
  },
  {
   "cell_type": "markdown",
   "metadata": {},
   "source": [
    "### AREA 4 (ATHENS AND PELOPONNESE)"
   ]
  },
  {
   "cell_type": "code",
   "execution_count": null,
   "metadata": {},
   "outputs": [],
   "source": [
    "id_area = 4\n",
    "df_p = df[df[\"area\"] == id_area]\n",
    "print(\"The number of vehicles in that area is\", len(df_p))\n",
    "list_bottom_y, list_bottom_x, list_top_y, list_top_x = compute_list_points(df_p)\n",
    "#c_y, c_x = compute_center_map(list_bottom_y, list_bottom_x, list_top_y, list_top_x)\n",
    "\n",
    "colors = ['gray', 'orange', 'green', 'lightred', 'darkgreen', 'darkblue', 'darkred', 'pink', \n",
    "          'lightgrayblack', 'lightblue', 'cadetblue', 'darkpurple', 'lightgreen', 'purple', 'blue', 'red', 'beige']\n",
    "\n",
    "m = folium.Map(location=[39.2,24.3], zoom_start=6)\n",
    "for i in range(len(df_p)):\n",
    "    r = folium.Rectangle([[list_bottom_y[i], list_bottom_x[i]], [list_top_y[i], list_top_x[i]]], color=colors[i%17], fill_opacity=0.1, fill=True, weight=0.5)\n",
    "    m.add_child(r)\n",
    "    \n",
    "folium.map.Marker([43.5, 32], \n",
    "    icon=folium.features.DivIcon(icon_size=(300,36), icon_anchor=(0,0),\n",
    "                                 html='<div style=\"font-size: 48pt\">AREA '+str(id_area)\n",
    "                                 +'</div>')).add_to(m)\n",
    "m"
   ]
  },
  {
   "cell_type": "markdown",
   "metadata": {},
   "source": [
    "### AREA 11 (ATHENS SMALL)"
   ]
  },
  {
   "cell_type": "code",
   "execution_count": null,
   "metadata": {
    "scrolled": false
   },
   "outputs": [],
   "source": [
    "id_area = 11\n",
    "df_p = df[df[\"area\"] == id_area]\n",
    "print(\"The number of vehicles in that area is\", len(df_p))\n",
    "list_bottom_y, list_bottom_x, list_top_y, list_top_x = compute_list_points(df_p)\n",
    "#c_y, c_x = compute_center_map(list_bottom_y, list_bottom_x, list_top_y, list_top_x)\n",
    "\n",
    "colors = ['gray', 'orange', 'green', 'lightred', 'darkgreen', 'darkblue', 'darkred', 'pink', \n",
    "          'lightgrayblack', 'lightblue', 'cadetblue', 'darkpurple', 'lightgreen', 'purple', 'blue', 'red', 'beige']\n",
    "\n",
    "m = folium.Map(location=[39.2,24.3], zoom_start=6)\n",
    "for i in range(len(df_p)):\n",
    "    r = folium.Rectangle([[list_bottom_y[i], list_bottom_x[i]], [list_top_y[i], list_top_x[i]]], color=colors[i%17], fill_opacity=0.1, fill=True, weight=0.5)\n",
    "    m.add_child(r)\n",
    "    \n",
    "folium.map.Marker([43.5, 32], \n",
    "    icon=folium.features.DivIcon(icon_size=(300,36), icon_anchor=(0,0),\n",
    "                                 html='<div style=\"font-size: 48pt\">AREA '+str(id_area)\n",
    "                                 +'</div>')).add_to(m)\n",
    "m"
   ]
  },
  {
   "cell_type": "code",
   "execution_count": null,
   "metadata": {},
   "outputs": [],
   "source": [
    "n_van = len(df_p[df_p[\"vehicletype\"] == \"Van\"])\n",
    "n_fridge = len(df_p[df_p[\"vehicletype\"] == \"Fridge truck\"])\n",
    "n_truck = len(df_p[df_p[\"vehicletype\"] == \"Truck\"])\n",
    "n_truck3ax = len(df_p[df_p[\"vehicletype\"] == \"Truck 3 ax.\"])\n",
    "n_truck3 = len(df_p[df_p[\"vehicletype\"] == \"Truck 3\"])\n",
    "n_flat = len(df_p[df_p[\"vehicletype\"] == \"Flatbedtruck\"])\n",
    "\n",
    "sizes = [n_van, n_fridge, n_truck, n_truck3ax, n_truck3, n_flat]\n",
    "\n",
    "fig = plt.figure(figsize=(7, 7)) \n",
    "\n",
    "ax = plt.subplot2grid(fig_dims, (0, 0))\n",
    "labels = 'Van', 'Fridge truck', 'Truck', 'Truck 3 ax.', 'Truck 3', 'Flatbedtruck'\n",
    "#explode = (0.01, 0.05, 0.1, 0.2, )\n",
    "c = [\"#69A2B0\", \"#659157\", \"#FFCAB1\", \"#EAC435\", \"#A1C084\", \"#E05263\", \"#5D2E46\"]\n",
    "inside, texts, ltexts = ax.pie(sizes, labels=labels, autopct='%1.1f%%', shadow=True, startangle=50, colors=c)\n",
    "for i in range(len(texts)):\n",
    "    texts[i].set_fontsize(13)\n",
    "    ltexts[i].set_fontsize(13)\n",
    "ax.axis('equal') "
   ]
  },
  {
   "cell_type": "code",
   "execution_count": null,
   "metadata": {},
   "outputs": [],
   "source": [
    "\n"
   ]
  },
  {
   "cell_type": "markdown",
   "metadata": {},
   "source": [
    "### AREA 8 (GREECE AND BALKANS)"
   ]
  },
  {
   "cell_type": "code",
   "execution_count": null,
   "metadata": {},
   "outputs": [],
   "source": [
    "id_area = 8\n",
    "df_p = df[df[\"area\"] == id_area]\n",
    "print(\"The number of vehicles in that area is\", len(df_p))\n",
    "list_bottom_y, list_bottom_x, list_top_y, list_top_x = compute_list_points(df_p)\n",
    "#c_y, c_x = compute_center_map(list_bottom_y, list_bottom_x, list_top_y, list_top_x)\n",
    "\n",
    "colors = ['gray', 'orange', 'green', 'lightred', 'darkgreen', 'darkblue', 'darkred', 'pink', \n",
    "          'lightgrayblack', 'lightblue', 'cadetblue', 'darkpurple', 'lightgreen', 'purple', 'blue', 'red', 'beige']\n",
    "\n",
    "m = folium.Map(location=[50.5,17], zoom_start=4)\n",
    "for i in range(len(df_p)):\n",
    "    r = folium.Rectangle([[list_bottom_y[i], list_bottom_x[i]], [list_top_y[i], list_top_x[i]]], color=colors[i%17], fill_opacity=0.1, fill=True, weight=0.5)\n",
    "    m.add_child(r)\n",
    "    \n",
    "folium.map.Marker([63, 48], \n",
    "    icon=folium.features.DivIcon(icon_size=(300,36), icon_anchor=(0,0),\n",
    "                                 html='<div style=\"font-size: 48pt\">AREA '+str(id_area)\n",
    "                                 +'</div>')).add_to(m)\n",
    "m"
   ]
  },
  {
   "cell_type": "markdown",
   "metadata": {},
   "source": [
    "### AREA 1 (NORTH GREECE)"
   ]
  },
  {
   "cell_type": "code",
   "execution_count": null,
   "metadata": {},
   "outputs": [],
   "source": [
    "id_area = 1\n",
    "df_p = df[df[\"area\"] == id_area]\n",
    "print(\"The number of vehicles in that area is\", len(df_p))\n",
    "list_bottom_y, list_bottom_x, list_top_y, list_top_x = compute_list_points(df_p)\n",
    "#c_y, c_x = compute_center_map(list_bottom_y, list_bottom_x, list_top_y, list_top_x)\n",
    "\n",
    "colors = ['gray', 'orange', 'green', 'lightred', 'darkgreen', 'darkblue', 'darkred', 'pink', \n",
    "          'lightgrayblack', 'lightblue', 'cadetblue', 'darkpurple', 'lightgreen', 'purple', 'blue', 'red', 'beige']\n",
    "\n",
    "m = folium.Map(location=[39.2,24.3], zoom_start=6)\n",
    "for i in range(len(df_p)):\n",
    "    r = folium.Rectangle([[list_bottom_y[i], list_bottom_x[i]], [list_top_y[i], list_top_x[i]]], color=colors[i%17], fill_opacity=0.1, fill=True, weight=0.5)\n",
    "    m.add_child(r)\n",
    "    \n",
    "folium.map.Marker([43.5, 32], \n",
    "    icon=folium.features.DivIcon(icon_size=(300,36), icon_anchor=(0,0),\n",
    "                                 html='<div style=\"font-size: 48pt\">AREA '+str(id_area)\n",
    "                                 +'</div>')).add_to(m)\n",
    "m"
   ]
  },
  {
   "cell_type": "markdown",
   "metadata": {},
   "source": [
    "### AREA 16 (WEST COAST ALBANY)"
   ]
  },
  {
   "cell_type": "code",
   "execution_count": null,
   "metadata": {},
   "outputs": [],
   "source": [
    "id_area = 16\n",
    "df_p = df[df[\"area\"] == id_area]\n",
    "print(\"The number of vehicles in that area is\", len(df_p))\n",
    "list_bottom_y, list_bottom_x, list_top_y, list_top_x = compute_list_points(df_p)\n",
    "#c_y, c_x = compute_center_map(list_bottom_y, list_bottom_x, list_top_y, list_top_x)\n",
    "\n",
    "colors = ['gray', 'orange', 'green', 'lightred', 'darkgreen', 'darkblue', 'darkred', 'pink', \n",
    "          'lightgrayblack', 'lightblue', 'cadetblue', 'darkpurple', 'lightgreen', 'purple', 'blue', 'red', 'beige']\n",
    "\n",
    "m = folium.Map(location=[39.2,24.3], zoom_start=6)\n",
    "for i in range(len(df_p)):\n",
    "    r = folium.Rectangle([[list_bottom_y[i], list_bottom_x[i]], [list_top_y[i], list_top_x[i]]], color=colors[i%17], fill_opacity=0.1, fill=True, weight=0.5)\n",
    "    m.add_child(r)\n",
    "    \n",
    "folium.map.Marker([43.5, 32], \n",
    "    icon=folium.features.DivIcon(icon_size=(300,36), icon_anchor=(0,0),\n",
    "                                 html='<div style=\"font-size: 48pt\">AREA '+str(id_area)\n",
    "                                 +'</div>')).add_to(m)\n",
    "m"
   ]
  },
  {
   "cell_type": "markdown",
   "metadata": {},
   "source": [
    " ### AREA 7 (WHOLE EUROPE)"
   ]
  },
  {
   "cell_type": "code",
   "execution_count": null,
   "metadata": {},
   "outputs": [],
   "source": [
    "id_area = 7\n",
    "df_p = df[df[\"area\"] == id_area]\n",
    "print(\"The number of vehicles in that area is\", len(df_p))\n",
    "list_bottom_y, list_bottom_x, list_top_y, list_top_x = compute_list_points(df_p)\n",
    "#c_y, c_x = compute_center_map(list_bottom_y, list_bottom_x, list_top_y, list_top_x)\n",
    "\n",
    "colors = ['gray', 'orange', 'green', 'lightred', 'darkgreen', 'darkblue', 'darkred', 'pink', \n",
    "          'lightgrayblack', 'lightblue', 'cadetblue', 'darkpurple', 'lightgreen', 'purple', 'blue', 'red', 'beige']\n",
    "\n",
    "m = folium.Map(location=[50.5,17], zoom_start=4)\n",
    "for i in range(len(df_p)):\n",
    "    r = folium.Rectangle([[list_bottom_y[i], list_bottom_x[i]], [list_top_y[i], list_top_x[i]]], color=colors[i%17], fill_opacity=0.1, fill=True, weight=0.5)\n",
    "    m.add_child(r)\n",
    "    \n",
    "folium.map.Marker([63, 48], \n",
    "    icon=folium.features.DivIcon(icon_size=(300,36), icon_anchor=(0,0),\n",
    "                                 html='<div style=\"font-size: 48pt\">AREA '+str(id_area)\n",
    "                                 +'</div>')).add_to(m)\n",
    "m"
   ]
  },
  {
   "cell_type": "code",
   "execution_count": null,
   "metadata": {},
   "outputs": [],
   "source": [
    "n_van = len(df_p[df_p[\"vehicletype\"] == \"Van\"])\n",
    "n_fridge = len(df_p[df_p[\"vehicletype\"] == \"Fridge truck\"])\n",
    "n_truck = len(df_p[df_p[\"vehicletype\"] == \"Truck\"])\n",
    "n_truck3ax = len(df_p[df_p[\"vehicletype\"] == \"Truck 3 ax.\"])\n",
    "n_truck3 = len(df_p[df_p[\"vehicletype\"] == \"Truck 3\"])\n",
    "n_flat = len(df_p[df_p[\"vehicletype\"] == \"Flatbedtruck\"])\n",
    "\n",
    "sizes = [n_van, n_fridge, n_truck, n_truck3ax, n_truck3, n_flat]\n",
    "\n",
    "fig = plt.figure(figsize=(7, 7)) \n",
    "\n",
    "ax = plt.subplot2grid(fig_dims, (0, 0))\n",
    "labels = 'Van', 'Fridge truck', 'Truck', 'Truck 3 ax.', 'Truck 3', 'Flatbedtruck'\n",
    "#explode = (0.01, 0.05, 0.1, 0.2, )\n",
    "c = [\"#69A2B0\", \"#659157\", \"#FFCAB1\", \"#EAC435\", \"#A1C084\", \"#E05263\", \"#5D2E46\"]\n",
    "inside, texts, ltexts = ax.pie(sizes, labels=labels, autopct='%1.1f%%', shadow=True, startangle=50, colors=c)\n",
    "for i in range(len(texts)):\n",
    "    texts[i].set_fontsize(13)\n",
    "    ltexts[i].set_fontsize(13)\n",
    "ax.axis('equal') "
   ]
  },
  {
   "cell_type": "markdown",
   "metadata": {},
   "source": [
    "### AREA 14 (CRETE)"
   ]
  },
  {
   "cell_type": "code",
   "execution_count": null,
   "metadata": {},
   "outputs": [],
   "source": [
    "id_area = 14\n",
    "df_p = df[df[\"area\"] == id_area]\n",
    "print(\"The number of vehicles in that area is\", len(df_p))\n",
    "list_bottom_y, list_bottom_x, list_top_y, list_top_x = compute_list_points(df_p)\n",
    "#c_y, c_x = compute_center_map(list_bottom_y, list_bottom_x, list_top_y, list_top_x)\n",
    "\n",
    "colors = ['gray', 'orange', 'green', 'lightred', 'darkgreen', 'darkblue', 'darkred', 'pink', \n",
    "          'lightgrayblack', 'lightblue', 'cadetblue', 'darkpurple', 'lightgreen', 'purple', 'blue', 'red', 'beige']\n",
    "\n",
    "m = folium.Map(location=[39.2,24.3], zoom_start=6)\n",
    "for i in range(len(df_p)):\n",
    "    r = folium.Rectangle([[list_bottom_y[i], list_bottom_x[i]], [list_top_y[i], list_top_x[i]]], color=colors[i%17], fill_opacity=0.1, fill=True, weight=0.5)\n",
    "    m.add_child(r)\n",
    "    \n",
    "folium.map.Marker([43.5, 32], \n",
    "    icon=folium.features.DivIcon(icon_size=(300,36), icon_anchor=(0,0),\n",
    "                                 html='<div style=\"font-size: 48pt\">AREA '+str(id_area)\n",
    "                                 +'</div>')).add_to(m)\n",
    "m"
   ]
  },
  {
   "cell_type": "code",
   "execution_count": null,
   "metadata": {},
   "outputs": [],
   "source": []
  },
  {
   "cell_type": "code",
   "execution_count": null,
   "metadata": {},
   "outputs": [],
   "source": []
  },
  {
   "cell_type": "code",
   "execution_count": null,
   "metadata": {},
   "outputs": [],
   "source": []
  },
  {
   "cell_type": "markdown",
   "metadata": {},
   "source": [
    "### AREA 32 (TIRANE AND DURRES IN ALBANY)"
   ]
  },
  {
   "cell_type": "code",
   "execution_count": null,
   "metadata": {},
   "outputs": [],
   "source": [
    "id_area = 32\n",
    "df_p = df[df[\"area\"] == id_area]\n",
    "print(\"The number of vehicles in that area is\", len(df_p))\n",
    "list_bottom_y, list_bottom_x, list_top_y, list_top_x = compute_list_points(df_p)\n",
    "#c_y, c_x = compute_center_map(list_bottom_y, list_bottom_x, list_top_y, list_top_x)\n",
    "\n",
    "colors = ['gray', 'orange', 'green', 'lightred', 'darkgreen', 'darkblue', 'darkred', 'pink', \n",
    "          'lightgrayblack', 'lightblue', 'cadetblue', 'darkpurple', 'lightgreen', 'purple', 'blue', 'red', 'beige']\n",
    "\n",
    "m = folium.Map(location=[39.2,24.3], zoom_start=6)\n",
    "for i in range(len(df_p)):\n",
    "    r = folium.Rectangle([[list_bottom_y[i], list_bottom_x[i]], [list_top_y[i], list_top_x[i]]], color=colors[i%17], fill_opacity=0.1, fill=True, weight=0.5)\n",
    "    m.add_child(r)\n",
    "    \n",
    "folium.map.Marker([43.5, 32], \n",
    "    icon=folium.features.DivIcon(icon_size=(300,36), icon_anchor=(0,0),\n",
    "                                 html='<div style=\"font-size: 48pt\">AREA '+str(id_area)\n",
    "                                 +'</div>')).add_to(m)\n",
    "m"
   ]
  },
  {
   "cell_type": "markdown",
   "metadata": {},
   "source": [
    "### AREA 12 (IOANNINA AND WEST GREECE)"
   ]
  },
  {
   "cell_type": "code",
   "execution_count": null,
   "metadata": {},
   "outputs": [],
   "source": [
    "id_area = 12\n",
    "df_p = df[df[\"area\"] == id_area]\n",
    "print(\"The number of vehicles in that area is\", len(df_p))\n",
    "list_bottom_y, list_bottom_x, list_top_y, list_top_x = compute_list_points(df_p)\n",
    "#c_y, c_x = compute_center_map(list_bottom_y, list_bottom_x, list_top_y, list_top_x)\n",
    "\n",
    "colors = ['gray', 'orange', 'green', 'lightred', 'darkgreen', 'darkblue', 'darkred', 'pink', \n",
    "          'lightgrayblack', 'lightblue', 'cadetblue', 'darkpurple', 'lightgreen', 'purple', 'blue', 'red', 'beige']\n",
    "\n",
    "m = folium.Map(location=[39.2,24.3], zoom_start=6)\n",
    "for i in range(len(df_p)):\n",
    "    r = folium.Rectangle([[list_bottom_y[i], list_bottom_x[i]], [list_top_y[i], list_top_x[i]]], color=colors[i%17], fill_opacity=0.1, fill=True, weight=0.5)\n",
    "    m.add_child(r)\n",
    "    \n",
    "folium.map.Marker([43.5, 32], \n",
    "    icon=folium.features.DivIcon(icon_size=(300,36), icon_anchor=(0,0),\n",
    "                                 html='<div style=\"font-size: 48pt\">AREA '+str(id_area)\n",
    "                                 +'</div>')).add_to(m)\n",
    "m"
   ]
  },
  {
   "cell_type": "markdown",
   "metadata": {},
   "source": [
    "### AREA 10 (THESSALONIKI AND SURROUNDINGS)"
   ]
  },
  {
   "cell_type": "code",
   "execution_count": null,
   "metadata": {},
   "outputs": [],
   "source": [
    "id_area = 10\n",
    "df_p = df[df[\"area\"] == id_area]\n",
    "print(\"The number of vehicles in that area is\", len(df_p))\n",
    "list_bottom_y, list_bottom_x, list_top_y, list_top_x = compute_list_points(df_p)\n",
    "#c_y, c_x = compute_center_map(list_bottom_y, list_bottom_x, list_top_y, list_top_x)\n",
    "\n",
    "colors = ['gray', 'orange', 'green', 'lightred', 'darkgreen', 'darkblue', 'darkred', 'pink', \n",
    "          'lightgrayblack', 'lightblue', 'cadetblue', 'darkpurple', 'lightgreen', 'purple', 'blue', 'red', 'beige']\n",
    "\n",
    "m = folium.Map(location=[39.2,24.3], zoom_start=6)\n",
    "for i in range(len(df_p)):\n",
    "    r = folium.Rectangle([[list_bottom_y[i], list_bottom_x[i]], [list_top_y[i], list_top_x[i]]], color=colors[i%17], fill_opacity=0.1, fill=True, weight=0.5)\n",
    "    m.add_child(r)\n",
    "    \n",
    "folium.map.Marker([43.5, 32], \n",
    "    icon=folium.features.DivIcon(icon_size=(300,36), icon_anchor=(0,0),\n",
    "                                 html='<div style=\"font-size: 48pt\">AREA '+str(id_area)\n",
    "                                 +'</div>')).add_to(m)\n",
    "m"
   ]
  },
  {
   "cell_type": "markdown",
   "metadata": {},
   "source": [
    "### AREA 19 (ATHENS VERY SMALL)"
   ]
  },
  {
   "cell_type": "code",
   "execution_count": null,
   "metadata": {},
   "outputs": [],
   "source": [
    "id_area = 19\n",
    "df_p = df[df[\"area\"] == id_area]\n",
    "print(\"The number of vehicles in that area is\", len(df_p))\n",
    "list_bottom_y, list_bottom_x, list_top_y, list_top_x = compute_list_points(df_p)\n",
    "#c_y, c_x = compute_center_map(list_bottom_y, list_bottom_x, list_top_y, list_top_x)\n",
    "\n",
    "colors = ['gray', 'orange', 'green', 'lightred', 'darkgreen', 'darkblue', 'darkred', 'pink', \n",
    "          'lightgrayblack', 'lightblue', 'cadetblue', 'darkpurple', 'lightgreen', 'purple', 'blue', 'red', 'beige']\n",
    "\n",
    "m = folium.Map(location=[39.2,24.3], zoom_start=6)\n",
    "for i in range(len(df_p)):\n",
    "    r = folium.Rectangle([[list_bottom_y[i], list_bottom_x[i]], [list_top_y[i], list_top_x[i]]], color=colors[i%17], fill_opacity=0.1, fill=True, weight=0.5)\n",
    "    m.add_child(r)\n",
    "    \n",
    "folium.map.Marker([43.5, 32], \n",
    "    icon=folium.features.DivIcon(icon_size=(300,36), icon_anchor=(0,0),\n",
    "                                 html='<div style=\"font-size: 48pt\">AREA '+str(id_area)\n",
    "                                 +'</div>')).add_to(m)\n",
    "m"
   ]
  },
  {
   "cell_type": "markdown",
   "metadata": {},
   "source": [
    "### AREA 5 (NORTH GREECE LARGE)"
   ]
  },
  {
   "cell_type": "code",
   "execution_count": null,
   "metadata": {
    "scrolled": false
   },
   "outputs": [],
   "source": [
    "id_area = 5\n",
    "df_p = df[df[\"area\"] == id_area]\n",
    "print(\"The number of vehicles in that area is\", len(df_p))\n",
    "list_bottom_y, list_bottom_x, list_top_y, list_top_x = compute_list_points(df_p)\n",
    "#c_y, c_x = compute_center_map(list_bottom_y, list_bottom_x, list_top_y, list_top_x)\n",
    "\n",
    "colors = ['gray', 'orange', 'green', 'lightred', 'darkgreen', 'darkblue', 'darkred', 'pink', \n",
    "          'lightgrayblack', 'lightblue', 'cadetblue', 'darkpurple', 'lightgreen', 'purple', 'blue', 'red', 'beige']\n",
    "\n",
    "m = folium.Map(location=[39.2,24.3], zoom_start=6)\n",
    "for i in range(len(df_p)):\n",
    "    r = folium.Rectangle([[list_bottom_y[i], list_bottom_x[i]], [list_top_y[i], list_top_x[i]]], color=colors[i%17], fill_opacity=0.1, fill=True, weight=0.5)\n",
    "    m.add_child(r)\n",
    "    \n",
    "folium.map.Marker([43.5, 32], \n",
    "    icon=folium.features.DivIcon(icon_size=(300,36), icon_anchor=(0,0),\n",
    "                                 html='<div style=\"font-size: 48pt\">AREA '+str(id_area)\n",
    "                                 +'</div>')).add_to(m)\n",
    "m"
   ]
  },
  {
   "cell_type": "code",
   "execution_count": null,
   "metadata": {},
   "outputs": [],
   "source": []
  },
  {
   "cell_type": "code",
   "execution_count": null,
   "metadata": {},
   "outputs": [],
   "source": []
  },
  {
   "cell_type": "markdown",
   "metadata": {},
   "source": [
    "## Last 100 vehicles excluded\n",
    "**(they are all clustered alone)**"
   ]
  },
  {
   "cell_type": "code",
   "execution_count": null,
   "metadata": {},
   "outputs": [],
   "source": [
    "ix = df['area'].value_counts()[-100:].index.tolist()\n",
    "\n",
    "df_p = df[df[\"area\"].isin(ix)]\n",
    "list_bottom_y, list_bottom_x, list_top_y, list_top_x = compute_list_points(df_p)\n",
    "c_y, c_x = compute_center_map(list_bottom_y, list_bottom_x, list_top_y, list_top_x)\n",
    "\n",
    "colors = ['gray', 'orange', 'green', 'lightred', 'darkgreen', 'darkblue', 'darkred', 'pink', \n",
    "          'lightgrayblack', 'lightblue', 'cadetblue', 'darkpurple', 'lightgreen', 'purple', 'blue', 'red', 'beige']\n",
    "\n",
    "m = folium.Map(location=[c_y, c_x], zoom_start=6)\n",
    "for i in range(len(df_p)):\n",
    "    r = folium.Rectangle([[list_bottom_y[i], list_bottom_x[i]], [list_top_y[i], list_top_x[i]]], color=colors[i%17], fill_opacity=0.8, fill=True, weight=4)\n",
    "    m.add_child(r)\n",
    "m"
   ]
  }
 ],
 "metadata": {
  "kernelspec": {
   "display_name": "Python 3",
   "language": "python",
   "name": "python3"
  },
  "language_info": {
   "codemirror_mode": {
    "name": "ipython",
    "version": 3
   },
   "file_extension": ".py",
   "mimetype": "text/x-python",
   "name": "python",
   "nbconvert_exporter": "python",
   "pygments_lexer": "ipython3",
   "version": "3.7.4"
  }
 },
 "nbformat": 4,
 "nbformat_minor": 2
}
