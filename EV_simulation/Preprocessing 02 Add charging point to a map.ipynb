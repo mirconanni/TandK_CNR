{
 "cells": [
  {
   "cell_type": "code",
   "execution_count": null,
   "metadata": {},
   "outputs": [],
   "source": [
    "import osmnx as ox, geopandas as gpd\n",
    "import srtm as sr\n",
    "import networkx as nx\n",
    "%matplotlib inline\n",
    "ox.config(log_file=True, log_console=True, use_cache=True)\n",
    "import numpy as np\n",
    "import pandas as pd\n",
    "import seaborn as sns\n",
    "import matplotlib.pyplot as plt\n",
    "from scipy import stats\n",
    "from haversine import haversine\n",
    "import math\n",
    "from shapely.geometry import Point, LineString\n",
    "import json, requests"
   ]
  },
  {
   "cell_type": "markdown",
   "metadata": {},
   "source": [
    "### Carica il grafo da disco"
   ]
  },
  {
   "cell_type": "code",
   "execution_count": null,
   "metadata": {},
   "outputs": [],
   "source": [
    "def caricaMappaDaDisco(fileName,folder):\n",
    "    G = ox.save_load.load_graphml(fileName, folder=folder)\n",
    "    return G"
   ]
  },
  {
   "cell_type": "code",
   "execution_count": null,
   "metadata": {},
   "outputs": [],
   "source": [
    "filename ='toscanaoriginale.graphml'\n",
    "#filename = 'toscanaMaxspeed.graphml'\n",
    "\n",
    "G = caricaMappaDaDisco(filename,None)"
   ]
  },
  {
   "cell_type": "markdown",
   "metadata": {},
   "source": [
    "### Visualizza il grafo in base alla maxspeed "
   ]
  },
  {
   "cell_type": "code",
   "execution_count": null,
   "metadata": {},
   "outputs": [],
   "source": [
    "def aggiungiMaxspeed (G):\n",
    "    conta = 0\n",
    "    conta1 = 0\n",
    "    for i in G.edges:\n",
    "        if 'maxspeed' in G.edges[i]:\n",
    "            conta+=1\n",
    "            if type(G.edges[i]['maxspeed']) is not str:\n",
    "                G.add_edge(*i,maxspeed= int(max(G.edges[i]['maxspeed'])))\n",
    "            elif len(G.edges[i]['maxspeed']) <= 3:\n",
    "                G.add_edge(*i,maxspeed= int(G.edges[i]['maxspeed']))\n",
    "            else:\n",
    "                G.add_edge(*i,maxspeed=0)\n",
    "        else:\n",
    "            conta1+=1\n",
    "            G.add_edge(*i,maxspeed=50)\n",
    "            \n",
    "    print(\"Erano presenti {} valori di Maxspeed\".format(conta))\n",
    "    print(\"Sono stati aggiunti {} valori di Maxspeed\".format(conta1))"
   ]
  },
  {
   "cell_type": "code",
   "execution_count": null,
   "metadata": {},
   "outputs": [],
   "source": [
    "aggiungiMaxspeed(G)"
   ]
  },
  {
   "cell_type": "code",
   "execution_count": null,
   "metadata": {},
   "outputs": [],
   "source": [
    "speedList = []\n",
    "conta  = 0\n",
    "for i in G.edges:\n",
    "    conta+=1\n",
    "    if G.edges[i]['maxspeed'] not in speedList:\n",
    "        speedList.append(int(G.edges[i]['maxspeed']))\n",
    "print(\"Numero totale di archi: {}\".format(conta))"
   ]
  },
  {
   "cell_type": "code",
   "execution_count": null,
   "metadata": {},
   "outputs": [],
   "source": [
    "speedList.sort()\n",
    "print(len(speedList))"
   ]
  },
  {
   "cell_type": "code",
   "execution_count": null,
   "metadata": {},
   "outputs": [],
   "source": [
    "colorList = {}\n",
    "listaSpeedCount = []\n",
    "histSpeedCount = []\n",
    "for i in speedList:\n",
    "    colorList[\"color{0}\".format(i)]= []\n",
    "    conta = 0\n",
    "    for keys in G.edges():\n",
    "        keys = keys+(0,)\n",
    "        if G.edges[keys]['maxspeed'] == i:\n",
    "            conta+=1\n",
    "            colorList[\"color{0}\".format(i)].append(G.edges[keys])\n",
    "#             if i != 0:\n",
    "            histSpeedCount.append(i)\n",
    "    listaSpeedCount.append((i,conta))\n",
    "    print(i,conta)"
   ]
  },
  {
   "cell_type": "code",
   "execution_count": null,
   "metadata": {},
   "outputs": [],
   "source": [
    "histSpeedCount"
   ]
  },
  {
   "cell_type": "code",
   "execution_count": null,
   "metadata": {},
   "outputs": [],
   "source": [
    "# # Data to plot\n",
    "# labels = []\n",
    "# torta = []\n",
    "# for i in listaSpeedCount:\n",
    "#     if i[0] == 0:\n",
    "#         continue\n",
    "#     else:\n",
    "#         labels.append(i[0])\n",
    "#         torta.append(i[1])\n",
    "\n",
    "# colors = ['gold', 'yellowgreen', 'lightcoral']\n",
    "\n",
    " \n",
    "# # Plot\n",
    "# plt.pie(torta, labels=labels, colors=colori,\n",
    "# autopct='%1.1f%%', shadow=True, startangle=60)\n",
    " \n",
    "# plt.axis('equal')\n",
    "# plt.show()"
   ]
  },
  {
   "cell_type": "code",
   "execution_count": null,
   "metadata": {},
   "outputs": [],
   "source": [
    "# An \"interface\" to matplotlib.axes.Axes.hist() method\n",
    "n, bins, patches = plt.hist(x=histSpeedCount, bins='auto', color='#0504aa',\n",
    "                            alpha=0.7, rwidth=0.85)\n",
    "plt.grid(axis='y', alpha=0.75)\n",
    "plt.xlabel('Velocità (km/h)')\n",
    "plt.ylabel('Frequency')\n",
    "plt.title('Distribuzione Maxspeed tra in valori non nulli (10%)')\n",
    "maxfreq = n.max()\n",
    "# Set a clean upper y-axis limit.\n",
    "plt.ylim(top = np.ceil(maxfreq / 10) * 10 if maxfreq % 10 else maxfreq + 10)"
   ]
  },
  {
   "cell_type": "code",
   "execution_count": null,
   "metadata": {},
   "outputs": [],
   "source": [
    "colori = ox.plot.get_colors(len(speedList), cmap='RdYlGn', start=0.0, stop=1.0, alpha=1.0, return_hex=True)"
   ]
  },
  {
   "cell_type": "code",
   "execution_count": null,
   "metadata": {},
   "outputs": [],
   "source": [
    "#Effettua il plot del grafo colorando gli archi in base a maxspeed\n",
    "ec = [colori[0] if data['maxspeed'] == speedList[0] else colori[0] if data['maxspeed'] == speedList[1] else colori[1] if data['maxspeed'] == speedList[2] else colori[2] if data['maxspeed'] == speedList[3] else colori[3] if data['maxspeed'] == speedList[4] else colori[4] if data['maxspeed'] == speedList[5] else colori[5] if data['maxspeed'] == speedList[6] else colori[6] if data['maxspeed'] == speedList[7] else colori[7] if data['maxspeed'] == speedList[8] else colori[8] if data['maxspeed'] == speedList[9] else colori[9] if data['maxspeed'] == speedList[10] else colori[10] if data['maxspeed'] == speedList[11] else colori[11] if data['maxspeed'] == speedList[12] else colori[12] if data['maxspeed'] == speedList[13] else colori[13] if data['maxspeed'] == speedList[14] else colori[14] if data['maxspeed'] == speedList[15] else colori[15] if data['maxspeed'] == speedList[16] else colori[16] if data['maxspeed'] == speedList[17] else colori[17] if data['maxspeed'] == speedList[18] else colori[18] if data['maxspeed'] == speedList[19] else colori[19] if data['maxspeed'] == speedList[20] else colori[20] if data['maxspeed'] == speedList[21] else 'w' for u, v, key, data in G.edges(keys=True, data=True)]\n",
    "# nc = ['g' if nodi['tipo'] == 'charge' for nodi in G.nodes(data=True)]\n",
    "fig, ax = ox.plot_graph(G, fig_height=100, bgcolor = 'black', show = False, save = True, filename='plot toscana archi in base a maxspeed', dpi=300,edge_color=ec, node_color = 'g')"
   ]
  },
  {
   "cell_type": "code",
   "execution_count": null,
   "metadata": {},
   "outputs": [],
   "source": [
    "ec = ['black' if data['maxspeed'] == speedList[0] else colori[0] if data['maxspeed'] == speedList[1] else colori[1] if data['maxspeed'] == speedList[2] else colori[2] if data['maxspeed'] == speedList[3] else colori[3] if data['maxspeed'] == speedList[4] else colori[4] if data['maxspeed'] == speedList[5] else colori[5] if data['maxspeed'] == speedList[6] else colori[6] if data['maxspeed'] == speedList[7] else colori[7] if data['maxspeed'] == speedList[8] else colori[8] if data['maxspeed'] == speedList[9] else colori[9] if data['maxspeed'] == speedList[10] else colori[10] if data['maxspeed'] == speedList[11] else colori[11] if data['maxspeed'] == speedList[12] else colori[12] if data['maxspeed'] == speedList[13] else colori[13] if data['maxspeed'] == speedList[14] else colori[14] if data['maxspeed'] == speedList[15] else colori[15] if data['maxspeed'] == speedList[16] else colori[16] if data['maxspeed'] == speedList[17] else colori[17] if data['maxspeed'] == speedList[18] else colori[18] if data['maxspeed'] == speedList[19] else colori[19] if data['maxspeed'] == speedList[20] else colori[20] if data['maxspeed'] == speedList[21] else 'w' for u, v, key, data in G.edges(keys=True, data=True)]\n",
    "fig, ax = ox.plot_graph(G, fig_height=100, bgcolor = 'black', show = False, save = True, filename='plot toscana solo archi in base a maxspeed', dpi=300,edge_color=ec, node_color = 'black')"
   ]
  },
  {
   "cell_type": "code",
   "execution_count": null,
   "metadata": {},
   "outputs": [],
   "source": [
    "ec = ['w' if data['maxspeed'] == speedList[0] else colori[0] if data['maxspeed'] == speedList[1] else colori[1] if data['maxspeed'] == speedList[2] else colori[2] if data['maxspeed'] == speedList[3] else colori[3] if data['maxspeed'] == speedList[4] else colori[4] if data['maxspeed'] == speedList[5] else colori[5] if data['maxspeed'] == speedList[6] else colori[6] if data['maxspeed'] == speedList[7] else colori[7] if data['maxspeed'] == speedList[8] else colori[8] if data['maxspeed'] == speedList[9] else colori[9] if data['maxspeed'] == speedList[10] else colori[10] if data['maxspeed'] == speedList[11] else colori[11] if data['maxspeed'] == speedList[12] else colori[12] if data['maxspeed'] == speedList[13] else colori[13] if data['maxspeed'] == speedList[14] else colori[14] if data['maxspeed'] == speedList[15] else colori[15] if data['maxspeed'] == speedList[16] else colori[16] if data['maxspeed'] == speedList[17] else colori[17] if data['maxspeed'] == speedList[18] else colori[18] if data['maxspeed'] == speedList[19] else colori[19] if data['maxspeed'] == speedList[20] else 'w' for u, v, key, data in G.edges(keys=True, data=True)]\n",
    "fig, ax = ox.plot_graph(G, fig_height=30, bgcolor = 'black', show = False, save = True, filename='plot toscana archi in base a maxspeed no nodi', dpi=80,edge_color=ec, node_color = 'black')"
   ]
  },
  {
   "cell_type": "markdown",
   "metadata": {},
   "source": [
    "### Distribuzione Highway"
   ]
  },
  {
   "cell_type": "code",
   "execution_count": null,
   "metadata": {},
   "outputs": [],
   "source": [
    "def contaHighway (G):\n",
    "    listaStrade = []\n",
    "    conta = 0\n",
    "    conta1 = 0\n",
    "    containt= 0\n",
    "    for i in G.edges:\n",
    "        if 'highway' in G.edges[i]:\n",
    "            if type(G.edges[i]['highway']) is not str:\n",
    "                if type(G.edges[i]['highway']) is list:                \n",
    "                    if 'unclassified' in G.edges[i]['highway']:\n",
    "                        G.edges[i]['highway'].remove('unclassified')\n",
    "                        tempStrada = G.edges[i]['highway'][0]\n",
    "                        G.add_edge(*i,highway=tempStrada)\n",
    "                        conta1+=1\n",
    "                    else:\n",
    "                        tempStrada = G.edges[i]['highway'][0]\n",
    "                        G.add_edge(*i,highway=tempStrada)\n",
    "                        conta1+=1\n",
    "            listaStrade.append(G.edges[i]['highway'])\n",
    "            conta+=1           \n",
    "    print(\"Erano presenti {} valori di highway\".format(conta))\n",
    "    print(\"Sono stati modificati {} valori di highway\".format(conta1))\n",
    "    print(\"gli int in sono {}\".format(containt))\n",
    "    return listaStrade"
   ]
  },
  {
   "cell_type": "code",
   "execution_count": null,
   "metadata": {},
   "outputs": [],
   "source": [
    "listaHighway = contaHighway(G)"
   ]
  },
  {
   "cell_type": "code",
   "execution_count": null,
   "metadata": {},
   "outputs": [],
   "source": [
    "conta = 0\n",
    "for i in listaHighway:\n",
    "    if i == 'unclassified':\n",
    "        conta+=1\n",
    "print(conta)"
   ]
  },
  {
   "cell_type": "code",
   "execution_count": null,
   "metadata": {},
   "outputs": [],
   "source": [
    "listaHighway.sort()"
   ]
  },
  {
   "cell_type": "code",
   "execution_count": null,
   "metadata": {},
   "outputs": [],
   "source": [
    "for i in G.edges:\n",
    "    if 'highway' in G.edges[i]:\n",
    "        if type(G.edges[i]['highway']) is not str:\n",
    "            print(G.edges[i]['highway'])"
   ]
  },
  {
   "cell_type": "code",
   "execution_count": null,
   "metadata": {},
   "outputs": [],
   "source": [
    "listaHighway"
   ]
  },
  {
   "cell_type": "code",
   "execution_count": null,
   "metadata": {},
   "outputs": [],
   "source": [
    "valoriHW = []\n",
    "for keys in listaHighway:\n",
    "    if keys not in valoriHW:\n",
    "        valoriHW.append(keys)"
   ]
  },
  {
   "cell_type": "code",
   "execution_count": null,
   "metadata": {},
   "outputs": [],
   "source": [
    "valoriHW"
   ]
  },
  {
   "cell_type": "code",
   "execution_count": null,
   "metadata": {},
   "outputs": [],
   "source": [
    "tabellaHwSpeed = {}\n",
    "for i in valoriHW:\n",
    "    if i == 'motorway' or i == 'motorway_link':\n",
    "        tabellaHwSpeed[\"{}\".format(i)] = 130\n",
    "    elif i == 'primary' or i == 'primary_link' or i == 'trunk' or i =='trunk_link':\n",
    "        tabellaHwSpeed[\"{}\".format(i)] = 110\n",
    "    elif i == 'secondary' or i == 'secondary_link':\n",
    "        tabellaHwSpeed[\"{}\".format(i)] = 90\n",
    "    elif i == 'tertiary' or i == 'tertiary_link': \n",
    "        tabellaHwSpeed[\"{}\".format(i)] = 70\n",
    "    else:\n",
    "        tabellaHwSpeed[\"{}\".format(i)] = 50"
   ]
  },
  {
   "cell_type": "code",
   "execution_count": null,
   "metadata": {},
   "outputs": [],
   "source": [
    "tabellaHwSpeed"
   ]
  },
  {
   "cell_type": "code",
   "execution_count": null,
   "metadata": {},
   "outputs": [],
   "source": [
    "for i in G.edges:\n",
    "    if G.edges[i]['maxspeed'] == 0:\n",
    "#         print(i)\n",
    "        strada = tabellaHwSpeed[G.edges[i]['highway']]\n",
    "        G.add_edge(*i,maxspeed=strada)"
   ]
  },
  {
   "cell_type": "code",
   "execution_count": null,
   "metadata": {},
   "outputs": [],
   "source": [
    "tabellaHwCount = []\n",
    "for i in valoriHW:\n",
    "    conta = 0\n",
    "    for j in listaHighway:\n",
    "        if i == j:\n",
    "             conta+=1\n",
    "    tabellaHwCount.append((i,conta))\n",
    "        "
   ]
  },
  {
   "cell_type": "code",
   "execution_count": null,
   "metadata": {},
   "outputs": [],
   "source": [
    "for i in tabellaHwCount:\n",
    "    print(i[1])"
   ]
  },
  {
   "cell_type": "code",
   "execution_count": null,
   "metadata": {},
   "outputs": [],
   "source": [
    "colori = ox.plot.get_colors(len(valoriHW), cmap='RdYlGn', start=0.0, stop=1.0, alpha=1.0, return_hex=True)\n",
    "# Data to plot\n",
    "labels = []\n",
    "torta = []\n",
    "for i in tabellaHwCount:\n",
    "    labels.append(i[0])\n",
    "    torta.append(i[1])\n",
    "\n",
    "colors = ['gold', 'yellowgreen', 'lightcoral']\n",
    "\n",
    " \n",
    "# Plot\n",
    "plt.pie(torta, labels=labels, colors = colori, autopct='%1.1f%%', shadow=True, startangle=60)\n",
    " \n",
    "plt.axis('equal')\n",
    "plt.show()"
   ]
  },
  {
   "cell_type": "markdown",
   "metadata": {},
   "source": [
    "### Salva il grafo su disco"
   ]
  },
  {
   "cell_type": "code",
   "execution_count": null,
   "metadata": {},
   "outputs": [],
   "source": [
    "def salvaMappa (Graph,filename,folder,gephi):\n",
    "    ox.save_load.save_graphml(Graph, filename=filename, folder=folder, gephi=gephi)"
   ]
  },
  {
   "cell_type": "code",
   "execution_count": null,
   "metadata": {},
   "outputs": [],
   "source": [
    "#Salva il grafo su disco\n",
    "filename = 'toscanaMaxspeed.graphml'\n",
    "\n",
    "salvaMappa(G,filename,None,None)"
   ]
  },
  {
   "cell_type": "markdown",
   "metadata": {},
   "source": [
    "### Recupera torrette da API openchargemap.com"
   ]
  },
  {
   "cell_type": "code",
   "execution_count": null,
   "metadata": {},
   "outputs": [],
   "source": [
    "#####################shadi########################\n",
    "def recuperaTorrette(url,province):\n",
    "    queryRs = requests.get(url=url)\n",
    "    rs = queryRs.json()\n",
    "    count = 0\n",
    "    data = {}\n",
    "    data_speed={}\n",
    "    con_counter=0\n",
    "    for i in range(0,len(rs)):\n",
    "        if rs[i]['AddressInfo']['StateOrProvince'] is not None:\n",
    "            if rs[i]['AddressInfo']['StateOrProvince'].lower() in province:\n",
    "                Id = rs[i]['ID']\n",
    "                coord = ((rs[i]['AddressInfo']['Latitude']),(rs[i]['AddressInfo']['Longitude']))\n",
    "                data[coord] = Id       \n",
    "                count+=1 \n",
    "                data_speed.update({rs[i]['ID']:{ j : rs[i]['Connections'][j] for j in range(0, len(rs[i]['Connections']) ) }})\n",
    "        \"\"\"\n",
    "        for key,value in dict_conn.items():\n",
    "            data_speed.update({key:{'Level_id' : value['LevelID'],'title' : value['Level']['Title']}})\n",
    "            con_counter+=1\n",
    "        data_speed.update( {'number_of_conns' : con_counter})\n",
    "        con_counter=0\n",
    "        \"\"\"\n",
    "    print(\"Sono state recuperate {} torrette\".format(count))\n",
    "    return (data,data_speed)\n"
   ]
  },
  {
   "cell_type": "code",
   "execution_count": null,
   "metadata": {},
   "outputs": [],
   "source": [
    "province = ['fi','ar','gr','li','lu','ms','pi','pt','po','si','firenze', 'arezzo', 'grosseto', 'livorno', 'lucca', 'massa', 'pisa', 'pistoia', 'prato', 'siena']\n",
    "torretteToscana, data_speed= recuperaTorrette(\"https://api.openchargemap.io/v3/poi/?output=json&countrycode=IT&maxresults=10000\",province)\n",
    "print(torretteToscana,data_speed)"
   ]
  },
  {
   "cell_type": "code",
   "execution_count": null,
   "metadata": {},
   "outputs": [],
   "source": [
    "fig, ax = ox.plot_graph(G)"
   ]
  },
  {
   "cell_type": "markdown",
   "metadata": {},
   "source": [
    "### Calcolo distanza tra torretta e nodo più vicino"
   ]
  },
  {
   "cell_type": "code",
   "execution_count": null,
   "metadata": {},
   "outputs": [],
   "source": [
    "# Distanza tra torretta e nodo più vicino,prende come argomenti le coordinate delle torrette,\n",
    "# la distanza massima oltre la quale la torretta è considerata troppo isolata e la distanza oltre la quale\n",
    "# l'arco richiede uno split. \n",
    "# Ritorna tre liste, nella prima ci sono le torrette a distanza maggiore del minimo da un nodo,\n",
    "# nella seconda le torrette e la distanza dai nodi dove è necessario lo split,\n",
    "# nella terza  le altre torrette e la distanza dai nodi.\n",
    "def calcoloDistanzaTorretta(torrette, maxdist, distSplit):\n",
    "    distanzaSupSplit = []\n",
    "    distanzaSupMax = []\n",
    "    distanzaDaNodo = []\n",
    "    for i in torrette:\n",
    "        \n",
    "        latlon = (G.nodes[ox.get_nearest_node(G,i)]['y'],G.nodes[ox.get_nearest_node(G,i)]['x'])\n",
    "        if haversine(i,latlon) > maxdist:\n",
    "            distanzaSupMax.append((haversine(i,latlon), (i)))\n",
    "        elif haversine(i,latlon) > distSplit and haversine(i,latlon) <= maxdist:\n",
    "            distanzaSupSplit.append((haversine(i,latlon), (i)))\n",
    "        else:\n",
    "            distanzaDaNodo.append((haversine(i,latlon), (i)))\n",
    "            \n",
    "    return distanzaSupMax, distanzaSupSplit, distanzaDaNodo\n"
   ]
  },
  {
   "cell_type": "markdown",
   "metadata": {},
   "source": [
    "### Spezza archi e costruisce il nodo torretta sull'arco più vicino"
   ]
  },
  {
   "cell_type": "code",
   "execution_count": null,
   "metadata": {},
   "outputs": [],
   "source": [
    "# Trova le coordinate di un nodo\n",
    "def trovaCoordNodo (nodo):\n",
    "    y = G.nodes[nodo]['y']\n",
    "    x = G.nodes[nodo]['x']\n",
    "    return y,x\n",
    "# Inverte la posizione delle coordinate nella tupla\n",
    "def reverseCoord (coord):\n",
    "    tempx = coord[0]\n",
    "    tempy = coord[1]\n",
    "    coord = (tempy,tempx)\n",
    "    return coord\n",
    "\n",
    "# Spezza archi, prende come argomento un nodo\n",
    "# Trova il punto della geometria dell'edge, più vicino alla torretta e restituisce\n",
    "# Un dict con nodo A, nodo B, e il nuovo nodo e le sue coordinate, le geometrie dei due nuovi edge, il minimo di distanza e\n",
    "# Le coordinate della torretta\n",
    "def spezzarchi(nodo,newNodeID):\n",
    "    arcoVicino = ox.get_nearest_edge(G,nodo)\n",
    "    nodoA = arcoVicino[1]\n",
    "    nodoB = arcoVicino[2]\n",
    "    coordA = (G.nodes[nodoA]['y'],G.nodes[nodoA]['x'])\n",
    "    coordB = (G.nodes[nodoB]['y'],G.nodes[nodoB]['x'])\n",
    "#     geom = G.edges[nodoA, nodoB, 0]['geometry']\n",
    "    geom = arcoVicino[0]\n",
    "    minimo = float('Inf')\n",
    "    for j in geom.coords:\n",
    "        j = reverseCoord(j)\n",
    "        tempminimo = haversine(nodo,(j))\n",
    "        if tempminimo < minimo:\n",
    "            minimo = tempminimo\n",
    "            coordinate = j\n",
    "    k = geom.coords[0]\n",
    "    limite = len(geom.coords)\n",
    "    h = 1\n",
    "    preNodotemp = []\n",
    "    postNodotemp = []\n",
    "    while k!= coordinate and h<limite:\n",
    "        a = Point(k[0],k[1])\n",
    "        preNodotemp.append(a)\n",
    "        k = geom.coords[h]\n",
    "        h+=1\n",
    "    preNodotemp.append(Point(coordinate[1],coordinate[0]))\n",
    "    while h<limite:\n",
    "        a = Point(k[0],k[1])\n",
    "        postNodotemp.append(a)\n",
    "        k = geom.coords[h]\n",
    "        h+=1\n",
    "    preNodo = LineString(preNodotemp)   \n",
    "    postNodo = LineString(postNodotemp)\n",
    "    nodo1 = newNodeID\n",
    "    tempagg = {\"nodoA\" : nodoA,\"nodo\" : nodo1,\"nodoB\" : nodoB,\"coordinate\" : coordinate,\"preNodo\" : preNodo,\"postNodo\" : postNodo,\"minimo\"  :minimo,\"torretta\" : nodo}\n",
    "\n",
    "    return tempagg\n",
    "\n"
   ]
  },
  {
   "cell_type": "code",
   "execution_count": null,
   "metadata": {},
   "outputs": [],
   "source": [
    "percorsiAggiunti = []\n",
    "if min(G.nodes())<0:\n",
    "    k=min(G.nodes())\n",
    "else:\n",
    "    k = 0\n",
    "for i in distSS:\n",
    "    k-=1\n",
    "    tempPerc = spezzarchi(i[1],k)\n",
    "    percorsiAggiunti.append(tempPerc)"
   ]
  },
  {
   "cell_type": "code",
   "execution_count": null,
   "metadata": {},
   "outputs": [],
   "source": [
    "def creaPercorsi (nodoA,nodo,nodoB,coordinate,preNodo,postNodo):\n",
    "    tmp = G.edges[nodoA,nodoB,0]\n",
    "    tmp1 = G.edges[nodoB,nodoA,0]\n",
    "    G.add_node(int(nodo), y = coordinate[0], x= coordinate[1],osmid = int(nodo), tipo = 'charge')\n",
    "    G.add_path([nodoA,nodo,nodoB])\n",
    "    G.add_path([nodoB,nodo,nodoA])\n",
    "\n",
    "    G.add_edge(nodoA,nodo,key = 0, osmid = tmp['osmid'], oneway =tmp['oneway'] , length = haversine(trovaCoordNodo(nodoA),coordinate)*1000, geometry = preNodo)\n",
    "    G.add_edge(nodo,nodoA,key = 0, osmid = tmp['osmid'], oneway =tmp['oneway'] , length = haversine(trovaCoordNodo(nodoA),coordinate)*1000, geometry = preNodo)\n",
    "#     G.add_edge(nodo,nodoB,key = 0, osmid = tmp1['osmid'],oneway =tmp['oneway'] , length = haversine(trovaCoordNodo(nodoB),coordinate)*1000, geometry = postNodo)\n",
    "#     G.add_edge(nodoB,nodo,key = 0, osmid = tmp1['osmid'],oneway =tmp['oneway'] , length = haversine(trovaCoordNodo(nodoB),coordinate)*1000, geometry = postNodo)\n",
    "    \n",
    "    G.remove_edge(nodoA,nodoB)\n",
    "    G.remove_edge(nodoB,nodoA)\n",
    "    return"
   ]
  },
  {
   "cell_type": "code",
   "execution_count": null,
   "metadata": {},
   "outputs": [],
   "source": [
    "for i in percorsiAggiunti:\n",
    "    creaPercorsi(i['nodoA'],i['nodo'],i['nodoB'],i['coordinate'],i['preNodo'],i['postNodo'])"
   ]
  },
  {
   "cell_type": "code",
   "execution_count": null,
   "metadata": {},
   "outputs": [],
   "source": [
    "# filename ='toscanaoriginale.graphml'\n",
    "filename = 'toscanaMaxspeed.graphml'\n",
    "\n",
    "G = caricaMappaDaDisco(filename,None)"
   ]
  },
  {
   "cell_type": "code",
   "execution_count": null,
   "metadata": {},
   "outputs": [],
   "source": [
    "for i in percorsiAggiunti:\n",
    "    i[\"preNodo\"].\n",
    "#     ox.plot_route_folium(G,nx.shortest_path(G,i['nodoA'],i['nodoB']))\n",
    "#     print(G[i[\"nodo\"]][i[\"nodoB\"]])\n",
    "#     print(nx.shortest_path(G,i['nodoA'],i['nodoB']),nx.shortest_path_length(G,i['nodoB'],i['nodoA'],weight = 'length'))"
   ]
  },
  {
   "cell_type": "code",
   "execution_count": null,
   "metadata": {},
   "outputs": [],
   "source": [
    "fig, ax = ox.plot_graph(G)"
   ]
  },
  {
   "cell_type": "markdown",
   "metadata": {},
   "source": [
    "### Aggiunge il tag charge ai nodi torretta"
   ]
  },
  {
   "cell_type": "code",
   "execution_count": null,
   "metadata": {},
   "outputs": [],
   "source": [
    "# Aggiungo il tag charge ai nodi torretta\n",
    "for j in distN: \n",
    "    b = ox.get_nearest_node(G,j[1])\n",
    "    G.add_node(b,tipo = 'charge')"
   ]
  },
  {
   "cell_type": "code",
   "execution_count": null,
   "metadata": {},
   "outputs": [],
   "source": [
    "listaTorrette = []\n",
    "for i in G.nodes():\n",
    "    if 'tipo' in G.nodes[i]:\n",
    "        listaTorrette.append(i)\n",
    "print('Sono state aggiunte {} torrette'.format(len(listaTorrette)))"
   ]
  },
  {
   "cell_type": "code",
   "execution_count": null,
   "metadata": {},
   "outputs": [],
   "source": [
    "counter=0\n",
    "for i in G.nodes():\n",
    "    if 'conInf' not in G.nodes[i] and 'tipo' in G.nodes[i]:\n",
    "        counter+=1\n",
    "print(\"the number  of charging station without confid: \",counter)"
   ]
  },
  {
   "cell_type": "code",
   "execution_count": null,
   "metadata": {},
   "outputs": [],
   "source": [
    "counter=0\n",
    "for i in G.nodes():\n",
    "    if 'conInf' in G.nodes[i] and 'tipo' in G.nodes[i]:\n",
    "        counter+=1\n",
    "print(\"the number  of charging station with confid: \",counter)"
   ]
  },
  {
   "cell_type": "markdown",
   "metadata": {},
   "source": [
    "### Salva il grafo su disco"
   ]
  },
  {
   "cell_type": "code",
   "execution_count": null,
   "metadata": {},
   "outputs": [],
   "source": [
    "def salvaMappa (Graph,filename,folder,gephi):\n",
    "    ox.save_load.save_graphml(Graph, filename=filename, folder=folder, gephi=gephi)"
   ]
  },
  {
   "cell_type": "code",
   "execution_count": null,
   "metadata": {},
   "outputs": [],
   "source": [
    "#Salva il grafo su disco\n",
    "ToscanaTorrette = 'toscanatorrette.graphml'\n",
    "\n",
    "salvaMappa(G,ToscanaTorrette,None,None)"
   ]
  }
 ],
 "metadata": {
  "kernelspec": {
   "display_name": "Python 3",
   "language": "python",
   "name": "python3"
  },
  "language_info": {
   "codemirror_mode": {
    "name": "ipython",
    "version": 3
   },
   "file_extension": ".py",
   "mimetype": "text/x-python",
   "name": "python",
   "nbconvert_exporter": "python",
   "pygments_lexer": "ipython3",
   "version": "3.7.4"
  }
 },
 "nbformat": 4,
 "nbformat_minor": 2
}
