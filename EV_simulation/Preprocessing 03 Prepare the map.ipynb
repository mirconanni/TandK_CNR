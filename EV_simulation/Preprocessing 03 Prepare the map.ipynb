{
 "cells": [
  {
   "cell_type": "code",
   "execution_count": null,
   "metadata": {},
   "outputs": [],
   "source": [
    "import osmnx as ox, geopandas as gpd\n",
    "import srtm as sr\n",
    "import networkx as nx\n",
    "%matplotlib inline\n",
    "ox.config(log_file=True, log_console=True, use_cache=True)\n",
    "import numpy as np\n",
    "import pandas as pd\n",
    "import seaborn as sns\n",
    "import matplotlib.pyplot as plt\n",
    "from scipy import stats\n",
    "from haversine import haversine\n",
    "import math\n",
    "from shapely.geometry import Point, LineString"
   ]
  },
  {
   "cell_type": "code",
   "execution_count": null,
   "metadata": {},
   "outputs": [],
   "source": [
    "# PARAMETERS OF THE VEHICLE TO SIMULATE\n",
    "\n",
    "#Area frontale del veicolo\n",
    "A = 2.27\n",
    "# Massa del veicolo\n",
    "Mcar = 1580\n",
    "# Massa del guidatore\n",
    "Md = 90\n",
    "# Coefficiente di resistenza aerodinamica\n",
    "Cd = 0.29\n",
    "# Coefficiente di resistenza al rotolamento\n",
    "R = 0.012\n",
    "# Capacità della batteria\n",
    "eBatCap = 38\n",
    "# Massa totale\n",
    "TotalMass = Mcar+Md\n",
    "# Efficienza della trasmissione\n",
    "effGear = 0.97\n",
    "# Efficienza del motore elettrico\n",
    "effMot = 0.95\n",
    "# Potenza ausiliaria\n",
    "Paux = 0\n",
    "# Efficienza della batteria\n",
    "effBattCharge = 0.95\n",
    "# Efficienza scaricamento batteria\n",
    "effBattDischarge = 0.98\n",
    "# Accelerazione di gravità\n",
    "g = 9.81\n",
    "# Densità aria\n",
    "rho = 1.2041\n",
    "# Regeneration ratio (G = 0.35 in ECO MODE)\n",
    "regenRatio = 0.35\n",
    "def evBatteryConsumption (distanceFromPrev, timeGap, speed, accel, alpha):\n",
    "    # Resistenza al rotolamento\n",
    "    Frr = R * (TotalMass) * g * math.cos(alpha)\n",
    "    # Resistenza areodinamica\n",
    "    Fa = 0.5 * A *Cd * rho * math.pow(speed, 2)\n",
    "    # Gravità\n",
    "    Fgo = (TotalMass) * g * math.sin(alpha)\n",
    "    # Forza d'inerzia\n",
    "    Fi = 1.05 * (TotalMass) * accel\n",
    "    # Forza totale\n",
    "    Ftot = Frr + Fa + Fgo + Fi\n",
    "    # Forza trazione meccanica\n",
    "    Ptot = Ftot * speed\n",
    "    \n",
    "    PmotOut = 0\n",
    "    if (Ptot >= 0):\n",
    "        PmotOut = Ptot/effGear\n",
    "    else:\n",
    "        PmotOut = regenRatio * Ptot * effGear\n",
    "    \n",
    "    PmotIn = 0\n",
    "    if (PmotOut >= 0):\n",
    "        PmotIn = PmotOut/effMot\n",
    "    else:\n",
    "        PmotIn = PmotOut*effMot\n",
    "    \n",
    "    Pbat = PmotIn + Paux\n",
    "    \n",
    "    # Modellazione batteria\n",
    "    eBat = 0\n",
    "    if(Pbat >= 0):\n",
    "        eBat = Pbat * timeGap/effBattDischarge\n",
    "    else:\n",
    "        eBat = Pbat * timeGap * effBattDischarge\n",
    "    \n",
    "    # Calcolo DeltaSoC\n",
    "    kWh2Ws = 3600*1e3\n",
    "    deltaSoC = eBat/(eBatCap*kWh2Ws)\n",
    "    \n",
    "    return deltaSoC"
   ]
  },
  {
   "cell_type": "markdown",
   "metadata": {},
   "source": [
    "### Carica il grafo da disco"
   ]
  },
  {
   "cell_type": "code",
   "execution_count": null,
   "metadata": {},
   "outputs": [],
   "source": [
    "def caricaMappaDaDisco (fileName,folder):\n",
    "    G = ox.save_load.load_graphml(fileName, folder=folder)\n",
    "    return G"
   ]
  },
  {
   "cell_type": "code",
   "execution_count": null,
   "metadata": {},
   "outputs": [],
   "source": [
    "ToscanaTorrette = 'toscana_torrette_maxspeed.graphml'\n",
    "\n",
    "G = caricaMappaDaDisco(ToscanaTorrette,None)"
   ]
  },
  {
   "cell_type": "code",
   "execution_count": null,
   "metadata": {},
   "outputs": [],
   "source": [
    "speedList = []\n",
    "conta  = 0\n",
    "for i in G.edges:\n",
    "    conta+=1\n",
    "    if G.edges[i]['maxspeed'] not in speedList:\n",
    "        speedList.append(G.edges[i]['maxspeed'])\n",
    "print(\"Numero totale di archi: {}\".format(conta))"
   ]
  },
  {
   "cell_type": "code",
   "execution_count": null,
   "metadata": {},
   "outputs": [],
   "source": [
    "colori = ox.plot.get_colors(len(speedList), cmap='RdYlGn', start=0.3, stop=1.0, alpha=1.0, return_hex=True)"
   ]
  },
  {
   "cell_type": "code",
   "execution_count": null,
   "metadata": {},
   "outputs": [],
   "source": [
    "len(speedList)"
   ]
  },
  {
   "cell_type": "code",
   "execution_count": null,
   "metadata": {},
   "outputs": [],
   "source": [
    "nc = ['blue' if 'tipo' in data else 'w' for n , data in G.nodes(data=True)]\n",
    "ne = ['r' if 'tipo' in data else 'w' for n , data in G.nodes(data=True)]\n",
    "ns = [50 if 'tipo' in data else 0 for n , data in G.nodes(data=True)]\n",
    "ec = [colori[0] if data['maxspeed'] == speedList[0] else colori[1] if data['maxspeed'] == speedList[1] else colori[2] if data['maxspeed'] == speedList[2] else colori[3] if data['maxspeed'] == speedList[3] else colori[4] if data['maxspeed'] == speedList[4] else colori[5] if data['maxspeed'] == speedList[5] else colori[6] if data['maxspeed'] == speedList[6] else colori[7] if data['maxspeed'] == speedList[7] else colori[8] if data['maxspeed'] == speedList[8] else 'w' for u, v, key, data in G.edges(keys=True, data=True)]\n",
    "fig, ax = ox.plot_graph(G, fig_height=30, bgcolor = 'w', show = True, save = True,\n",
    "                        filename='plot toscana archi in base a maxspeed nodi charge rossi', \n",
    "                        dpi=80, node_color = nc, node_size = ns, node_edgecolor = ne,node_zorder=2,edge_color=ec)"
   ]
  },
  {
   "cell_type": "markdown",
   "metadata": {},
   "source": [
    "### Aggiunge il valore di elevation ai nodi"
   ]
  },
  {
   "cell_type": "code",
   "execution_count": null,
   "metadata": {},
   "outputs": [],
   "source": [
    "elevation_data = sr.get_data()\n",
    "#Aggiunge tag 'elev'= (elevation del nodo) ad ogni nodo\n",
    "for i in G.nodes:\n",
    "    ln = G.nodes[i]['y']\n",
    "    la = G.nodes[i]['x']\n",
    "    tempelev = elevation_data.get_elevation(ln,la)\n",
    "    G.add_node(i, elev = tempelev)\n",
    "\n",
    "\n",
    "#Sostituisce i valori None di elevation con l'elevation media dei nodi vicini\n",
    "for j in G.nodes:\n",
    "    if G.nodes[j]['elev'] is None:\n",
    "        closelev = G.neighbors(j)\n",
    "        conta = 0\n",
    "        tempelev = 0\n",
    "        for i in closelev:\n",
    "            if i != j:\n",
    "                tempelev = tempelev + G.nodes[i]['elev']\n",
    "                conta += 1\n",
    "        G.add_node(j, elev = tempelev/conta)\n",
    "        print('a', G.nodes[j])\n",
    "\n",
    "#Controlla se ci sono nodi con elevation = None\n",
    "nulli  = 0\n",
    "for i in G.nodes:\n",
    "    if G.node[i]['elev'] is None:\n",
    "        nulli+=1\n",
    "print(\"I nodi con valore di elevation nullo sono {}\".format(nulli))"
   ]
  },
  {
   "cell_type": "code",
   "execution_count": null,
   "metadata": {},
   "outputs": [],
   "source": [
    "#Effettua il plot del grafo colorando i nodi in base all'elevation\n",
    "nc = ox.get_node_colors_by_attr(G, 'elev', cmap='inferno', num_bins=20)\n",
    "fig, ax = ox.plot_graph(G, fig_height=30, bgcolor = 'black',node_color=nc, node_size=35, node_zorder=2, edge_color='#dddddd')"
   ]
  },
  {
   "cell_type": "markdown",
   "metadata": {},
   "source": [
    "### Calcola il dislivello tra un nodo e il suo vicino"
   ]
  },
  {
   "cell_type": "code",
   "execution_count": null,
   "metadata": {},
   "outputs": [],
   "source": [
    "for u in G.nodes:\n",
    "    for v in G.neighbors(u):\n",
    "        dislivello = (G.node[v]['elev'])-(G.node[u]['elev'])\n",
    "#         print(dislivello)\n",
    "        G.add_edge(u,v,key = 0, slope = float(dislivello))"
   ]
  },
  {
   "cell_type": "code",
   "execution_count": null,
   "metadata": {},
   "outputs": [],
   "source": [
    "for u,v,k in G.edges:\n",
    "    if 'slope' not in G[u][v][k]:\n",
    "        G.add_edge(u,v,key = k, slope = 0)"
   ]
  },
  {
   "cell_type": "code",
   "execution_count": null,
   "metadata": {},
   "outputs": [],
   "source": [
    "for u,v,k in G.edges:\n",
    "    if abs(G[u][v][k]['slope'])>G[u][v][k]['length']:\n",
    "        G.add_edge(u,v,key = k, slope = 0)    "
   ]
  },
  {
   "cell_type": "code",
   "execution_count": null,
   "metadata": {},
   "outputs": [],
   "source": [
    "pendenze.sort()"
   ]
  },
  {
   "cell_type": "code",
   "execution_count": null,
   "metadata": {},
   "outputs": [],
   "source": [
    "ec = ['g' if data['slope'] < 0 else 'b' if data['slope'] == 0 else 'r' for u, v, key, data in G.edges(keys=True, data=True)]\n",
    "fig, ax = ox.plot_graph(G, fig_height=30,show = True, save = True,\n",
    "                        filename='plot toscana archi in base alla pendenza', \n",
    "                        dpi=80, bgcolor = 'w',node_color='black', node_size=0, edge_color=ec)"
   ]
  },
  {
   "cell_type": "code",
   "execution_count": null,
   "metadata": {},
   "outputs": [],
   "source": [
    "pendenze =[]\n",
    "pendenzeTra10e20 = 0\n",
    "pendenzeSopra20 = 0\n",
    "for u,v,k in G.edges:\n",
    "    if G[u][v][k]['slope'] != 0:\n",
    "        dislivello = G[u][v][k]['slope']\n",
    "        lunghezzaStrada = G[u][v][k]['length']\n",
    "        distanza = math.sqrt((lunghezzaStrada*lunghezzaStrada)-(dislivello*dislivello))\n",
    "        percDiscesa = dislivello/distanza\n",
    "        if percDiscesa >= -0.25 and percDiscesa <= 0.25:\n",
    "            pendenze.append(percDiscesa*100)\n",
    "        elif percDiscesa > 20:\n",
    "            pendenzeSopra20 +=1\n",
    "        angDiscesa = math.atan(percDiscesa)\n",
    "        G.add_edge(u,v,key = k, slopePerc = float(percDiscesa), slopeAngle = float(angDiscesa))\n",
    "    else:\n",
    "        G.add_edge(u,v,key = k, slopePerc = 0, slopeAngle = 0)\n",
    "print(\"ci sono {} pendenze tra il 10 e il 20 % e {} pendenze superiori al 20 %\".format(pendenzeTra10e20,pendenzeSopra20))"
   ]
  },
  {
   "cell_type": "code",
   "execution_count": null,
   "metadata": {
    "scrolled": true
   },
   "outputs": [],
   "source": [
    "pendenze"
   ]
  },
  {
   "cell_type": "code",
   "execution_count": null,
   "metadata": {},
   "outputs": [],
   "source": [
    "sns.distplot(pendenze, hist=True, kde=True, bins = 'auto',\n",
    "             color = 'black', \n",
    "             hist_kws={'edgecolor':'black'},\n",
    "             kde_kws={'linewidth': 2})\n",
    "plt.xlabel('Pendenza%')\n",
    "plt.ylabel('Frequency')"
   ]
  },
  {
   "cell_type": "code",
   "execution_count": null,
   "metadata": {},
   "outputs": [],
   "source": [
    "# An \"interface\" to matplotlib.axes.Axes.hist() method\n",
    "n, bins, patches = plt.hist(x=pendenze, bins='auto', color='#0504aa',density = True,\n",
    "                            alpha=0.7, rwidth=0.85)\n",
    "plt.grid(axis='y', alpha=0.75)\n",
    "plt.xlabel('Velocità (km/h)')\n",
    "plt.ylabel('Frequency')\n",
    "# plt.title('Distribuzione Maxspeed tra in valori non nulli (10%)')\n",
    "maxfreq = n.max()\n",
    "# Set a clean upper y-axis limit.\n",
    "# plt.ylim(top = np.ceil(maxfreq))"
   ]
  },
  {
   "cell_type": "code",
   "execution_count": null,
   "metadata": {},
   "outputs": [],
   "source": [
    "for u,v,k in G.edges:\n",
    "    tempoDiPercorrenza = G[u][v][k]['length']/(int(G[u][v][k]['maxspeed'])/3.6)\n",
    "    G.add_edge(u,v,key = k, traveltime = float(tempoDiPercorrenza) )\n",
    "    "
   ]
  },
  {
   "cell_type": "code",
   "execution_count": null,
   "metadata": {},
   "outputs": [],
   "source": [
    "for u,v,k in G.edges:\n",
    "    consumo = evBatteryConsumption (G[u][v][k]['length'], G[u][v][k]['traveltime'], int(G[u][v][k]['maxspeed'])/3.6, 0, G[u][v][k]['slopeAngle'])\n",
    "    G.add_edge(u,v,key = k, consumption = float(consumo*(eBatCap*(3600*1e3))))"
   ]
  },
  {
   "cell_type": "code",
   "execution_count": null,
   "metadata": {},
   "outputs": [],
   "source": [
    "for u,v,k in G.edges:\n",
    "    G.add_edge(u,v,key = k, maxspeed = int(G[u][v][k]['maxspeed']))"
   ]
  },
  {
   "cell_type": "code",
   "execution_count": null,
   "metadata": {},
   "outputs": [],
   "source": [
    "# for i in G.nodes():\n",
    "#     if 'tipo' in G.nodes[i]:\n",
    "#         G.add_edge(i,i,0, traveltime = None, consumption = None)"
   ]
  },
  {
   "cell_type": "code",
   "execution_count": null,
   "metadata": {},
   "outputs": [],
   "source": [
    "def salvaMappa (Graph,filename,folder,gephi):\n",
    "    ox.save_load.save_graphml(Graph, filename=filename, folder=folder, gephi=gephi)"
   ]
  },
  {
   "cell_type": "code",
   "execution_count": null,
   "metadata": {},
   "outputs": [],
   "source": [
    "#Salva il grafo su disco\n",
    "# filename = 'toscanatorrette.graphml'\n",
    "filename = 'toscana_torrette_completo.graphml'\n",
    "\n",
    "\n",
    "salvaMappa(G,filename,None,None)"
   ]
  }
 ],
 "metadata": {
  "kernelspec": {
   "display_name": "Python 3",
   "language": "python",
   "name": "python3"
  },
  "language_info": {
   "codemirror_mode": {
    "name": "ipython",
    "version": 3
   },
   "file_extension": ".py",
   "mimetype": "text/x-python",
   "name": "python",
   "nbconvert_exporter": "python",
   "pygments_lexer": "ipython3",
   "version": "3.7.4"
  }
 },
 "nbformat": 4,
 "nbformat_minor": 2
}
