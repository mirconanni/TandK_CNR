{
 "cells": [
  {
   "cell_type": "markdown",
   "metadata": {},
   "source": [
    "# DATA UNDERSTANDING PER AREA"
   ]
  },
  {
   "cell_type": "code",
   "execution_count": null,
   "metadata": {},
   "outputs": [],
   "source": [
    "stop = \"5\""
   ]
  },
  {
   "cell_type": "markdown",
   "metadata": {},
   "source": [
    "### IMPORT LIBRARIES"
   ]
  },
  {
   "cell_type": "code",
   "execution_count": null,
   "metadata": {},
   "outputs": [],
   "source": [
    "# folium allows to visualize geolocalized data with the jupyter notebook\n",
    "import folium\n",
    "from folium.plugins import MarkerCluster\n",
    "# pandas is needed to read the csv file and to perform some basic operations on dataframes\n",
    "import pandas as pd\n",
    "# matplotlib is used to draw graphs\n",
    "import matplotlib.pyplot as plt\n",
    "# module for different stats\n",
    "from statistics import mean \n",
    "\n",
    "import numpy as np\n",
    "import folium\n",
    "from folium import plugins\n",
    "from folium.plugins import HeatMap\n",
    "import selenium.webdriver"
   ]
  },
  {
   "cell_type": "code",
   "execution_count": null,
   "metadata": {},
   "outputs": [],
   "source": [
    "df2 = pd.read_csv('../../../datasets/in/Traj'+stop+'min/area2_month9_10_week0_stops.csv') "
   ]
  },
  {
   "cell_type": "code",
   "execution_count": null,
   "metadata": {},
   "outputs": [],
   "source": [
    "df2.head()"
   ]
  },
  {
   "cell_type": "code",
   "execution_count": null,
   "metadata": {},
   "outputs": [],
   "source": [
    "len(df2[\"vehicle\"].unique())"
   ]
  },
  {
   "cell_type": "code",
   "execution_count": null,
   "metadata": {},
   "outputs": [],
   "source": [
    "n_traj = []\n",
    "lengths_v = []\n",
    "durations_v = []\n",
    "lengths = []\n",
    "durations = []\n",
    "\n",
    "n_v = len(df2[\"vehicle\"].unique())\n",
    "\n",
    "for v in df2[\"vehicle\"].unique():\n",
    "    df_v = df2[df2[\"vehicle\"] == v]\n",
    "    n_traj.append(len(df_v))\n",
    "    lengths_v.append(np.mean(df_v[\"length\"]))\n",
    "    durations_v.append(np.mean(df_v[\"duration\"]))\n",
    "    lengths.extend(df_v[\"length\"])\n",
    "    durations.extend(df_v[\"duration\"])\n",
    "\n",
    "print(\"mean n traj\", np.mean(n_traj))\n",
    "print(\"std n traj\", np.std(n_traj))\n",
    "print(\"mean length per vehicle\", np.mean(lengths_v))\n",
    "print(\"std length per vehicle\", np.std(lengths_v))\n",
    "print(\"mean duration per vehicle\", np.mean(durations_v)/60)\n",
    "print(\"std duration per vehicle\", np.std(durations_v)/60)\n",
    "print(\"mean length all traj\", np.mean(lengths))\n",
    "print(\"std length all traj\", np.std(lengths))\n",
    "print(\"mean duration all traj\", np.mean(durations)/60)\n",
    "print(\"std duration all traj\", np.std(durations)/60)"
   ]
  },
  {
   "cell_type": "code",
   "execution_count": null,
   "metadata": {},
   "outputs": [],
   "source": [
    "vehicletypes = []\n",
    "v_list = df2[\"vehicle\"].unique()\n",
    "for v in v_list:\n",
    "    df_i = df2[df2[\"vehicle\"] == v]\n",
    "    vehicletypes.append(df_i[\"vehicletype\"].unique()[0])\n",
    "    \n",
    "s = pd.Series(vehicletypes)"
   ]
  },
  {
   "cell_type": "code",
   "execution_count": null,
   "metadata": {},
   "outputs": [],
   "source": [
    "print(df2[\"vehicletype\"].unique())\n",
    "print(s.value_counts())\n",
    "sumv = np.sum(s.value_counts())\n",
    "print(sumv)\n",
    "print(np.divide(s.value_counts(), sumv))"
   ]
  },
  {
   "cell_type": "code",
   "execution_count": null,
   "metadata": {},
   "outputs": [],
   "source": [
    "fig = plt.figure(figsize=(7, 7)) \n",
    "fig_dims = (1, 1)\n",
    "\n",
    "ax = plt.subplot2grid(fig_dims, (0, 0))\n",
    "labels = df2[\"vehicletype\"].unique()[0:3]\n",
    "sizes = s.value_counts()[0:3]\n",
    "explode = (0.01, 0.05, 0.1)\n",
    "c = [\"#97c170\", \"#dde37a\", \"#e1bd66\"]\n",
    "inside, texts, ltexts = ax.pie(sizes, explode=explode, labels=labels, autopct='%1.1f%%', shadow=True, startangle=50, colors=c)\n",
    "for i in range(len(texts)):\n",
    "    texts[i].set_fontsize(13)\n",
    "    ltexts[i].set_fontsize(13)\n",
    "ax.axis('equal') \n",
    "plt.savefig('../../../thesis/images/Area2_vehicletype.png', format='png', bbox_inches='tight')"
   ]
  },
  {
   "cell_type": "markdown",
   "metadata": {},
   "source": [
    "## AREA 11"
   ]
  },
  {
   "cell_type": "code",
   "execution_count": null,
   "metadata": {},
   "outputs": [],
   "source": [
    "df11 = pd.read_csv('../../../datasets/in/Traj'+stop+'min/area11_month9_10_week0_stops.csv') "
   ]
  },
  {
   "cell_type": "code",
   "execution_count": null,
   "metadata": {},
   "outputs": [],
   "source": [
    "n_traj = []\n",
    "lengths_v = []\n",
    "durations_v = []\n",
    "lengths = []\n",
    "durations = []\n",
    "\n",
    "n_v = len(df11[\"vehicle\"].unique())\n",
    "\n",
    "for v in df11[\"vehicle\"].unique():\n",
    "    df_v = df11[df11[\"vehicle\"] == v]\n",
    "    n_traj.append(len(df_v))\n",
    "    lengths_v.append(np.mean(df_v[\"length\"]))\n",
    "    durations_v.append(np.mean(df_v[\"duration\"]))\n",
    "    lengths.extend(df_v[\"length\"])\n",
    "    durations.extend(df_v[\"duration\"])\n",
    "\n",
    "print(\"mean n traj\", np.mean(n_traj))\n",
    "print(\"std n traj\", np.std(n_traj))\n",
    "print(\"mean length per vehicle\", np.mean(lengths_v))\n",
    "print(\"std length per vehicle\", np.std(lengths_v))\n",
    "print(\"mean duration per vehicle\", np.mean(durations_v)/60)\n",
    "print(\"std duration per vehicle\", np.std(durations_v)/60)\n",
    "print(\"mean length all traj\", np.mean(lengths))\n",
    "print(\"std length all traj\", np.std(lengths))\n",
    "print(\"mean duration all traj\", np.mean(durations)/60)\n",
    "print(\"std duration all traj\", np.std(durations)/60)"
   ]
  },
  {
   "cell_type": "code",
   "execution_count": null,
   "metadata": {},
   "outputs": [],
   "source": [
    "vehicletypes = []\n",
    "v_list = df11[\"vehicle\"].unique()\n",
    "for v in v_list:\n",
    "    df_i = df11[df11[\"vehicle\"] == v]\n",
    "    vehicletypes.append(df_i[\"vehicletype\"].unique()[0])\n",
    "    \n",
    "s = pd.Series(vehicletypes)"
   ]
  },
  {
   "cell_type": "code",
   "execution_count": null,
   "metadata": {},
   "outputs": [],
   "source": [
    "print(df11[\"vehicletype\"].unique())\n",
    "print(s.value_counts())\n",
    "sumv = np.sum(s.value_counts())\n",
    "print(sumv)\n",
    "print(np.divide(s.value_counts(), sumv))"
   ]
  },
  {
   "cell_type": "code",
   "execution_count": null,
   "metadata": {},
   "outputs": [],
   "source": [
    "fig = plt.figure(figsize=(7, 7)) \n",
    "fig_dims = (1, 1)\n",
    "\n",
    "ax = plt.subplot2grid(fig_dims, (0, 0))\n",
    "labels = df2[\"vehicletype\"].unique()[0:3]\n",
    "sizes = s.value_counts()[0:3]\n",
    "explode = (0.01, 0.05, 0.01)\n",
    "c = [\"#97c170\", \"#dde37a\", \"#e1bd66\"]\n",
    "inside, texts, ltexts = ax.pie(sizes, explode=explode, labels=labels, autopct='%1.1f%%', shadow=True, startangle=50, colors=c)\n",
    "for i in range(len(texts)):\n",
    "    texts[i].set_fontsize(13)\n",
    "    ltexts[i].set_fontsize(13)\n",
    "ax.axis('equal') \n",
    "\n",
    "plt.savefig('../../../thesis/images/Area11_vehicletype.png', format='png', bbox_inches='tight')"
   ]
  },
  {
   "cell_type": "code",
   "execution_count": null,
   "metadata": {},
   "outputs": [],
   "source": [
    "driver = selenium.webdriver.PhantomJS()"
   ]
  },
  {
   "cell_type": "code",
   "execution_count": null,
   "metadata": {},
   "outputs": [],
   "source": [
    "start_points_string = list(df2[\"start_point\"])\n",
    "end_points_string = list(df2[\"end_point\"])\n",
    "\n",
    "points = []\n",
    "# in csv points are stored as strings\n",
    "for i in range(len(start_points_string)):\n",
    "    p_start = start_points_string[i]\n",
    "    p_0 = (p_start.split(','))[0][1:]\n",
    "    p_1 = (p_start.split(','))[1][1:]\n",
    "    points.append([float(p_0), float(p_1)])"
   ]
  },
  {
   "cell_type": "code",
   "execution_count": null,
   "metadata": {},
   "outputs": [],
   "source": [
    "m = folium.Map(location=[38, 23], zoom_start=10) ## area 2\n",
    "\n",
    "# Plot it on the map\n",
    "HeatMap(points).add_to(m)\n",
    "\n",
    "m.save('../../../thesis/images/heatmap_area_2.html')"
   ]
  },
  {
   "cell_type": "code",
   "execution_count": null,
   "metadata": {},
   "outputs": [],
   "source": [
    "driver.set_window_size(2500, 1800)\n",
    "driver.get('../../../thesis/images/heatmap_area_2.html')\n",
    "driver.save_screenshot('../../../thesis/images/heatmap_area_2.png')"
   ]
  },
  {
   "cell_type": "code",
   "execution_count": null,
   "metadata": {},
   "outputs": [],
   "source": [
    "start_points_string = list(df11[\"start_point\"])\n",
    "end_points_string = list(df11[\"end_point\"])\n",
    "\n",
    "points = []\n",
    "# in csv points are stored as strings\n",
    "for i in range(len(start_points_string)):\n",
    "    p_start = start_points_string[i]\n",
    "    p_0 = (p_start.split(','))[0][1:]\n",
    "    p_1 = (p_start.split(','))[1][1:]\n",
    "    points.append([float(p_0), float(p_1)])"
   ]
  },
  {
   "cell_type": "code",
   "execution_count": null,
   "metadata": {},
   "outputs": [],
   "source": [
    "m = folium.Map(location=[38, 23.68], zoom_start=12) ## area 11\n",
    "\n",
    "# Plot it on the map\n",
    "HeatMap(points).add_to(m)\n",
    "\n",
    "# Display the map\n",
    "m.save('../../../thesis/images/heatmap_area_11.html')"
   ]
  },
  {
   "cell_type": "code",
   "execution_count": null,
   "metadata": {},
   "outputs": [],
   "source": [
    "driver.set_window_size(2500, 1800)\n",
    "driver.get('../../../thesis/images/heatmap_area_11.html')\n",
    "driver.save_screenshot('../../../thesis/images/heatmap_area_11.png')"
   ]
  },
  {
   "cell_type": "code",
   "execution_count": null,
   "metadata": {},
   "outputs": [],
   "source": []
  }
 ],
 "metadata": {
  "kernelspec": {
   "display_name": "Python 3",
   "language": "python",
   "name": "python3"
  },
  "language_info": {
   "codemirror_mode": {
    "name": "ipython",
    "version": 3
   },
   "file_extension": ".py",
   "mimetype": "text/x-python",
   "name": "python",
   "nbconvert_exporter": "python",
   "pygments_lexer": "ipython3",
   "version": "3.7.4"
  }
 },
 "nbformat": 4,
 "nbformat_minor": 2
}
