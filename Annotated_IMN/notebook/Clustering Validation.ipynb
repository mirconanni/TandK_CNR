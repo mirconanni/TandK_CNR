{
 "cells": [
  {
   "cell_type": "markdown",
   "metadata": {},
   "source": [
    "# Clustering Validation"
   ]
  },
  {
   "cell_type": "markdown",
   "metadata": {},
   "source": [
    "### IMPORT LIBRARIES"
   ]
  },
  {
   "cell_type": "code",
   "execution_count": 39,
   "metadata": {},
   "outputs": [],
   "source": [
    "import pandas as pd\n",
    "import matplotlib as mpl\n",
    "import matplotlib.pyplot as plt\n",
    "import numpy as np\n",
    "from sklearn.cluster import KMeans\n",
    "import pickle\n",
    "from sklearn.metrics import normalized_mutual_info_score as norm_mutual\n",
    "from sklearn.metrics import adjusted_mutual_info_score as adj_mutual"
   ]
  },
  {
   "cell_type": "markdown",
   "metadata": {},
   "source": [
    "#### Define the parameters to select the correct area and time period"
   ]
  },
  {
   "cell_type": "code",
   "execution_count": 40,
   "metadata": {},
   "outputs": [],
   "source": [
    "stop = '5'\n",
    "id_area = '2'\n",
    "month =  '9'\n",
    "n_months = '2'\n",
    "week = '0'\n",
    "\n",
    "month_code = month\n",
    "if n_months != \"1\":\n",
    "    for m in range(1, int(n_months)):\n",
    "        month_code += \"_\" + str(int(month)+m)"
   ]
  },
  {
   "cell_type": "markdown",
   "metadata": {},
   "source": [
    "#### Open the dataframe of the location features"
   ]
  },
  {
   "cell_type": "code",
   "execution_count": 41,
   "metadata": {},
   "outputs": [],
   "source": [
    "path = '../../../datasets/out/Traj' + stop + 'min/'\n",
    "file_name_in = 'loc_feat_area'+id_area+'_month'+month_code+'_week'+ week + '_compl_log_norm.csv'\n",
    "file_name_out = '_area'+id_area+'_month'+month_code+'_week'+ week + '_log'\n",
    "\n",
    "df = pd.read_csv(path+file_name_in)"
   ]
  },
  {
   "cell_type": "markdown",
   "metadata": {},
   "source": [
    "#### We can remove the attributes that have a high correlation with another\n",
    "\n",
    "In some cases we perform a mean of the correlated columns, in other cases, if the information is just redundant, we just remove the attribute"
   ]
  },
  {
   "cell_type": "code",
   "execution_count": 42,
   "metadata": {},
   "outputs": [],
   "source": [
    "df_corr = df.copy()\n",
    "df_corr.drop(['vehicle', 'loc_id'], axis=1, inplace=True)\n",
    "\n",
    "df_corr.drop([\"support\"], axis=1, inplace=True)\n",
    "\n",
    "avg_stay_weekday = (df_corr[\"avg_stay_weekday_day\"] + df_corr[\"avg_stay_weekday_night\"])/2\n",
    "avg_stay_weekend = (df_corr[\"avg_stay_weekend_day\"] + df_corr[\"avg_stay_weekend_night\"])/2\n",
    "std_stay_weekday = (df_corr[\"std_stay_weekday_day\"] + df_corr[\"std_stay_weekday_night\"])/2\n",
    "std_stay_weekend = (df_corr[\"std_stay_weekend_day\"] + df_corr[\"std_stay_weekend_night\"])/2\n",
    "\n",
    "df_corr = df_corr.assign(avg_stay_weekday=avg_stay_weekday, avg_stay_weekend=avg_stay_weekend,\n",
    "                         std_stay_weekday=std_stay_weekday, std_stay_weekend=std_stay_weekend)\n",
    "\n",
    "df_corr.drop([\"avg_stay_weekday_day\", \"avg_stay_weekday_night\", \"avg_stay_weekend_day\", \"avg_stay_weekend_night\",\n",
    "              \"std_stay_weekday_day\", \"std_stay_weekday_night\", \"std_stay_weekend_day\", \"std_stay_weekend_night\"], axis=1, inplace=True)\n",
    "\n",
    "\n",
    "avg_time_weekday_day = (df_corr[\"avg_leave_weekday_day\"] + df_corr[\"avg_arrive_weekday_day\"])/2\n",
    "avg_time_weekend_day = (df_corr[\"avg_leave_weekend_day\"] + df_corr[\"avg_arrive_weekend_day\"])/2\n",
    "avg_time_weekday_night = (df_corr[\"avg_leave_weekday_night\"] + df_corr[\"avg_arrive_weekday_night\"])/2\n",
    "avg_time_weekend_night = (df_corr[\"avg_leave_weekend_night\"] + df_corr[\"avg_arrive_weekend_night\"])/2\n",
    "\n",
    "df_corr = df_corr.assign(avg_time_weekday_day=avg_time_weekday_day, avg_time_weekend_day=avg_time_weekend_day,\n",
    "                         avg_time_weekday_night=avg_time_weekday_night, avg_time_weekend_night=avg_time_weekend_night)\n",
    "\n",
    "df_corr.drop([\"avg_leave_weekday_day\", \"avg_arrive_weekday_day\", \"avg_leave_weekend_day\", \"avg_arrive_weekend_day\",\n",
    "              \"avg_leave_weekday_night\", \"avg_arrive_weekday_night\", \"avg_leave_weekend_night\", \"avg_arrive_weekend_night\"], axis=1, inplace=True)\n",
    "\n",
    "df_corr.drop([\"avg_leave_mov_duration\", \"avg_arrive_mov_duration\", \"std_leave_mov_duration\", \"std_arrive_mov_duration\"], axis=1, inplace=True)\n",
    "\n",
    "df_corr.drop([\"centrality5K\", \"rev_centrality3\", \"rev_centrality8\", \"rev_centrality10\"], axis=1, inplace=True)\n",
    "\n",
    "# move the collective features as the last columns of the dataframe\n",
    "columns_df_c = [\"exclusivity\", \"centrality1K\", \"centrality15K\", \"rev_centrality1\", \"rev_centrality5\", \"rev_centrality20\"]\n",
    "df_corr = df_corr[[c for c in df_corr if c not in columns_df_c] + [c for c in columns_df_c if c in df_corr]]\n",
    "\n",
    "# move the geographical features as the last columns of the dataframe\n",
    "categories = [\"gas\", \"parking\", \"pier\", \"hotel\", \"food\", \"leisure\", \"shop\", \"service\", \"supermarket\"]\n",
    "columns_df_g = [\"n_\"+c for c in categories]+[\"k_\"+c for c in categories]+[\"d_\"+c for c in categories]\n",
    "df_corr = df_corr[[c for c in df_corr if c not in columns_df_g] + [c for c in columns_df_g if c in df_corr]]"
   ]
  },
  {
   "cell_type": "markdown",
   "metadata": {},
   "source": [
    "# Temporal Clustering"
   ]
  },
  {
   "cell_type": "markdown",
   "metadata": {},
   "source": [
    "#### Select only the stay time and the arrival time"
   ]
  },
  {
   "cell_type": "code",
   "execution_count": 43,
   "metadata": {},
   "outputs": [],
   "source": [
    "df_temp = df_corr[['avg_stay_weekday', 'avg_stay_weekend', 'std_stay_weekday', 'std_stay_weekend', \n",
    "                  'avg_time_weekday_day', 'avg_time_weekend_day', 'avg_time_weekday_night', 'avg_time_weekend_night']]"
   ]
  },
  {
   "cell_type": "code",
   "execution_count": 44,
   "metadata": {},
   "outputs": [
    {
     "data": {
      "text/html": [
       "<div>\n",
       "<style scoped>\n",
       "    .dataframe tbody tr th:only-of-type {\n",
       "        vertical-align: middle;\n",
       "    }\n",
       "\n",
       "    .dataframe tbody tr th {\n",
       "        vertical-align: top;\n",
       "    }\n",
       "\n",
       "    .dataframe thead th {\n",
       "        text-align: right;\n",
       "    }\n",
       "</style>\n",
       "<table border=\"1\" class=\"dataframe\">\n",
       "  <thead>\n",
       "    <tr style=\"text-align: right;\">\n",
       "      <th></th>\n",
       "      <th>avg_stay_weekday</th>\n",
       "      <th>avg_stay_weekend</th>\n",
       "      <th>std_stay_weekday</th>\n",
       "      <th>std_stay_weekend</th>\n",
       "      <th>avg_time_weekday_day</th>\n",
       "      <th>avg_time_weekend_day</th>\n",
       "      <th>avg_time_weekday_night</th>\n",
       "      <th>avg_time_weekend_night</th>\n",
       "    </tr>\n",
       "  </thead>\n",
       "  <tbody>\n",
       "    <tr>\n",
       "      <th>count</th>\n",
       "      <td>109335.000000</td>\n",
       "      <td>109335.000000</td>\n",
       "      <td>109335.000000</td>\n",
       "      <td>109335.000000</td>\n",
       "      <td>109335.000000</td>\n",
       "      <td>109335.000000</td>\n",
       "      <td>109335.000000</td>\n",
       "      <td>109335.000000</td>\n",
       "    </tr>\n",
       "    <tr>\n",
       "      <th>mean</th>\n",
       "      <td>0.194373</td>\n",
       "      <td>0.033277</td>\n",
       "      <td>0.157336</td>\n",
       "      <td>0.041639</td>\n",
       "      <td>0.515622</td>\n",
       "      <td>0.087821</td>\n",
       "      <td>0.115397</td>\n",
       "      <td>0.038945</td>\n",
       "    </tr>\n",
       "    <tr>\n",
       "      <th>std</th>\n",
       "      <td>0.225787</td>\n",
       "      <td>0.122519</td>\n",
       "      <td>0.215122</td>\n",
       "      <td>0.099810</td>\n",
       "      <td>0.271083</td>\n",
       "      <td>0.266313</td>\n",
       "      <td>0.288635</td>\n",
       "      <td>0.175829</td>\n",
       "    </tr>\n",
       "    <tr>\n",
       "      <th>min</th>\n",
       "      <td>0.000000</td>\n",
       "      <td>0.000000</td>\n",
       "      <td>0.000000</td>\n",
       "      <td>0.000000</td>\n",
       "      <td>0.000000</td>\n",
       "      <td>0.000000</td>\n",
       "      <td>0.000000</td>\n",
       "      <td>0.000000</td>\n",
       "    </tr>\n",
       "    <tr>\n",
       "      <th>25%</th>\n",
       "      <td>0.000000</td>\n",
       "      <td>0.000000</td>\n",
       "      <td>0.050459</td>\n",
       "      <td>0.000000</td>\n",
       "      <td>0.351111</td>\n",
       "      <td>0.000000</td>\n",
       "      <td>0.000000</td>\n",
       "      <td>0.000000</td>\n",
       "    </tr>\n",
       "    <tr>\n",
       "      <th>50%</th>\n",
       "      <td>0.197314</td>\n",
       "      <td>0.000000</td>\n",
       "      <td>0.050459</td>\n",
       "      <td>0.000000</td>\n",
       "      <td>0.584108</td>\n",
       "      <td>0.000000</td>\n",
       "      <td>0.000000</td>\n",
       "      <td>0.000000</td>\n",
       "    </tr>\n",
       "    <tr>\n",
       "      <th>75%</th>\n",
       "      <td>0.271173</td>\n",
       "      <td>0.000000</td>\n",
       "      <td>0.214116</td>\n",
       "      <td>0.053577</td>\n",
       "      <td>0.715958</td>\n",
       "      <td>0.000000</td>\n",
       "      <td>0.000000</td>\n",
       "      <td>0.000000</td>\n",
       "    </tr>\n",
       "    <tr>\n",
       "      <th>max</th>\n",
       "      <td>0.999863</td>\n",
       "      <td>1.000000</td>\n",
       "      <td>1.000000</td>\n",
       "      <td>1.000000</td>\n",
       "      <td>0.999693</td>\n",
       "      <td>0.999776</td>\n",
       "      <td>0.999881</td>\n",
       "      <td>0.999815</td>\n",
       "    </tr>\n",
       "  </tbody>\n",
       "</table>\n",
       "</div>"
      ],
      "text/plain": [
       "       avg_stay_weekday  avg_stay_weekend  std_stay_weekday  std_stay_weekend  \\\n",
       "count     109335.000000     109335.000000     109335.000000     109335.000000   \n",
       "mean           0.194373          0.033277          0.157336          0.041639   \n",
       "std            0.225787          0.122519          0.215122          0.099810   \n",
       "min            0.000000          0.000000          0.000000          0.000000   \n",
       "25%            0.000000          0.000000          0.050459          0.000000   \n",
       "50%            0.197314          0.000000          0.050459          0.000000   \n",
       "75%            0.271173          0.000000          0.214116          0.053577   \n",
       "max            0.999863          1.000000          1.000000          1.000000   \n",
       "\n",
       "       avg_time_weekday_day  avg_time_weekend_day  avg_time_weekday_night  \\\n",
       "count         109335.000000         109335.000000           109335.000000   \n",
       "mean               0.515622              0.087821                0.115397   \n",
       "std                0.271083              0.266313                0.288635   \n",
       "min                0.000000              0.000000                0.000000   \n",
       "25%                0.351111              0.000000                0.000000   \n",
       "50%                0.584108              0.000000                0.000000   \n",
       "75%                0.715958              0.000000                0.000000   \n",
       "max                0.999693              0.999776                0.999881   \n",
       "\n",
       "       avg_time_weekend_night  \n",
       "count           109335.000000  \n",
       "mean                 0.038945  \n",
       "std                  0.175829  \n",
       "min                  0.000000  \n",
       "25%                  0.000000  \n",
       "50%                  0.000000  \n",
       "75%                  0.000000  \n",
       "max                  0.999815  "
      ]
     },
     "execution_count": 44,
     "metadata": {},
     "output_type": "execute_result"
    }
   ],
   "source": [
    "df_temp.describe()"
   ]
  },
  {
   "cell_type": "markdown",
   "metadata": {},
   "source": [
    "#### Run k-means with k=6"
   ]
  },
  {
   "cell_type": "code",
   "execution_count": 45,
   "metadata": {},
   "outputs": [],
   "source": [
    "kmeans_t = KMeans(init='k-means++', n_clusters=6, n_init=10, max_iter=300, random_state = 123)\n",
    "kmeans_t.fit(df_temp)\n",
    "\n",
    "# get the centroids\n",
    "centroids_kmeans_t = kmeans_t.cluster_centers_\n",
    "labels_kmeans_t = kmeans_t.labels_"
   ]
  },
  {
   "cell_type": "code",
   "execution_count": 46,
   "metadata": {},
   "outputs": [
    {
     "data": {
      "text/plain": [
       "{0: 25812, 1: 11106, 2: 8087, 3: 10095, 4: 3300, 5: 50935}"
      ]
     },
     "execution_count": 46,
     "metadata": {},
     "output_type": "execute_result"
    }
   ],
   "source": [
    "unique_elements, counts_elements = np.unique(labels_kmeans_t, return_counts=True)\n",
    "dict(zip(unique_elements, counts_elements))"
   ]
  },
  {
   "cell_type": "markdown",
   "metadata": {},
   "source": [
    "# Spatial Clustering"
   ]
  },
  {
   "cell_type": "markdown",
   "metadata": {},
   "source": [
    "#### Select only the location prototype coordinates"
   ]
  },
  {
   "cell_type": "code",
   "execution_count": 47,
   "metadata": {},
   "outputs": [],
   "source": [
    "df_spatial = df_corr[['loc_proto_lat', 'loc_proto_lon']]"
   ]
  },
  {
   "cell_type": "code",
   "execution_count": 48,
   "metadata": {},
   "outputs": [
    {
     "data": {
      "text/html": [
       "<div>\n",
       "<style scoped>\n",
       "    .dataframe tbody tr th:only-of-type {\n",
       "        vertical-align: middle;\n",
       "    }\n",
       "\n",
       "    .dataframe tbody tr th {\n",
       "        vertical-align: top;\n",
       "    }\n",
       "\n",
       "    .dataframe thead th {\n",
       "        text-align: right;\n",
       "    }\n",
       "</style>\n",
       "<table border=\"1\" class=\"dataframe\">\n",
       "  <thead>\n",
       "    <tr style=\"text-align: right;\">\n",
       "      <th></th>\n",
       "      <th>loc_proto_lat</th>\n",
       "      <th>loc_proto_lon</th>\n",
       "    </tr>\n",
       "  </thead>\n",
       "  <tbody>\n",
       "    <tr>\n",
       "      <th>count</th>\n",
       "      <td>109335.000000</td>\n",
       "      <td>109335.000000</td>\n",
       "    </tr>\n",
       "    <tr>\n",
       "      <th>mean</th>\n",
       "      <td>0.479416</td>\n",
       "      <td>0.749837</td>\n",
       "    </tr>\n",
       "    <tr>\n",
       "      <th>std</th>\n",
       "      <td>0.061089</td>\n",
       "      <td>0.055686</td>\n",
       "    </tr>\n",
       "    <tr>\n",
       "      <th>min</th>\n",
       "      <td>0.000000</td>\n",
       "      <td>0.000000</td>\n",
       "    </tr>\n",
       "    <tr>\n",
       "      <th>25%</th>\n",
       "      <td>0.449828</td>\n",
       "      <td>0.736013</td>\n",
       "    </tr>\n",
       "    <tr>\n",
       "      <th>50%</th>\n",
       "      <td>0.472772</td>\n",
       "      <td>0.753163</td>\n",
       "    </tr>\n",
       "    <tr>\n",
       "      <th>75%</th>\n",
       "      <td>0.505175</td>\n",
       "      <td>0.772169</td>\n",
       "    </tr>\n",
       "    <tr>\n",
       "      <th>max</th>\n",
       "      <td>1.000000</td>\n",
       "      <td>1.000000</td>\n",
       "    </tr>\n",
       "  </tbody>\n",
       "</table>\n",
       "</div>"
      ],
      "text/plain": [
       "       loc_proto_lat  loc_proto_lon\n",
       "count  109335.000000  109335.000000\n",
       "mean        0.479416       0.749837\n",
       "std         0.061089       0.055686\n",
       "min         0.000000       0.000000\n",
       "25%         0.449828       0.736013\n",
       "50%         0.472772       0.753163\n",
       "75%         0.505175       0.772169\n",
       "max         1.000000       1.000000"
      ]
     },
     "execution_count": 48,
     "metadata": {},
     "output_type": "execute_result"
    }
   ],
   "source": [
    "df_spatial.describe()"
   ]
  },
  {
   "cell_type": "markdown",
   "metadata": {},
   "source": [
    "#### Run k-means with k=6"
   ]
  },
  {
   "cell_type": "code",
   "execution_count": 49,
   "metadata": {},
   "outputs": [],
   "source": [
    "kmeans_s = KMeans(init='k-means++', n_clusters=6, n_init=10, max_iter=300, random_state = 123)\n",
    "kmeans_s.fit(df_spatial)\n",
    "\n",
    "# get the centroids\n",
    "centroids_kmeans_s = kmeans_s.cluster_centers_\n",
    "labels_kmeans_s = kmeans_s.labels_"
   ]
  },
  {
   "cell_type": "code",
   "execution_count": 50,
   "metadata": {},
   "outputs": [
    {
     "data": {
      "text/plain": [
       "{0: 53260, 1: 3106, 2: 33146, 3: 1742, 4: 12151, 5: 5930}"
      ]
     },
     "execution_count": 50,
     "metadata": {},
     "output_type": "execute_result"
    }
   ],
   "source": [
    "unique_elements, counts_elements = np.unique(labels_kmeans_s, return_counts=True)\n",
    "dict(zip(unique_elements, counts_elements))"
   ]
  },
  {
   "cell_type": "markdown",
   "metadata": {},
   "source": [
    "# Semantic Clustering"
   ]
  },
  {
   "cell_type": "markdown",
   "metadata": {},
   "source": [
    "#### Retrieve the result using our clustering technique"
   ]
  },
  {
   "cell_type": "code",
   "execution_count": 51,
   "metadata": {},
   "outputs": [],
   "source": [
    "with open(path+\"link_cluster\"+file_name_out+'.pickle', 'rb') as fp:\n",
    "    df_link = pickle.load(fp)\n",
    "    link_cluster = df_link[\"link_cluster\"]"
   ]
  },
  {
   "cell_type": "code",
   "execution_count": 52,
   "metadata": {},
   "outputs": [
    {
     "data": {
      "text/plain": [
       "{1: 6470, 2: 9122, 3: 6563, 4: 14035, 5: 28748, 6: 44397}"
      ]
     },
     "execution_count": 52,
     "metadata": {},
     "output_type": "execute_result"
    }
   ],
   "source": [
    "unique_elements, counts_elements = np.unique(link_cluster, return_counts=True)\n",
    "dict(zip(unique_elements, counts_elements))"
   ]
  },
  {
   "cell_type": "markdown",
   "metadata": {},
   "source": [
    "# Compare Methods"
   ]
  },
  {
   "cell_type": "markdown",
   "metadata": {},
   "source": [
    "#### Compute matrix n_locs*n_locs, where c_ij = 1 if loc_i and loc_j are in the same cluster, 0 ow"
   ]
  },
  {
   "cell_type": "code",
   "execution_count": null,
   "metadata": {},
   "outputs": [],
   "source": [
    "# # temporal clustering\n",
    "# M_t = []\n",
    "# for i in labels_kmeans_t:\n",
    "#     row = []\n",
    "#     for j in labels_kmeans_t:\n",
    "#         if i == j:\n",
    "#             row.append(1)\n",
    "#         else:\n",
    "#             row.append(0)\n",
    "#     M_t.append(row)"
   ]
  },
  {
   "cell_type": "code",
   "execution_count": 45,
   "metadata": {},
   "outputs": [],
   "source": [
    "# with open(path+\"matrix_t\"+file_name_out+'.pickle', 'wb') as fp:\n",
    "#     pickle.dump(M_t, fp)"
   ]
  },
  {
   "cell_type": "code",
   "execution_count": null,
   "metadata": {},
   "outputs": [],
   "source": [
    "# # spatial clustering\n",
    "# M_s = []\n",
    "# for i in labels_kmeans_s:\n",
    "#     row = []\n",
    "#     for j in labels_kmeans_s:\n",
    "#         if i == j:\n",
    "#             row.append(1)\n",
    "#         else:\n",
    "#             row.append(0)\n",
    "#     M_s.append(row)"
   ]
  },
  {
   "cell_type": "code",
   "execution_count": null,
   "metadata": {},
   "outputs": [],
   "source": [
    "# with open(path+\"matrix_s\"+file_name_out+'.pickle', 'wb') as fp:\n",
    "#     pickle.dump(M_s, fp)"
   ]
  },
  {
   "cell_type": "code",
   "execution_count": null,
   "metadata": {},
   "outputs": [],
   "source": [
    "# # semantic clustering\n",
    "# M = []\n",
    "# for i in link_cluster:\n",
    "#     row = []\n",
    "#     for j in link_cluster:\n",
    "#         if i == j:\n",
    "#             row.append(1)\n",
    "#         else:\n",
    "#             row.append(0)\n",
    "#     M.append(row)"
   ]
  },
  {
   "cell_type": "code",
   "execution_count": null,
   "metadata": {},
   "outputs": [],
   "source": [
    "# M.size()"
   ]
  },
  {
   "cell_type": "markdown",
   "metadata": {},
   "source": [
    "#### (METHOD 1) Count how many couples od locations are clustered together in different method"
   ]
  },
  {
   "cell_type": "code",
   "execution_count": 37,
   "metadata": {},
   "outputs": [],
   "source": []
  },
  {
   "cell_type": "markdown",
   "metadata": {},
   "source": [
    "#### (METHOD 2) Using sklearn normalized_mutual_info_score"
   ]
  },
  {
   "cell_type": "code",
   "execution_count": 53,
   "metadata": {},
   "outputs": [
    {
     "name": "stdout",
     "output_type": "stream",
     "text": [
      "0.15799538753521084 0.11864595623337867 0.0035988934447113226\n"
     ]
    }
   ],
   "source": [
    "nmi_M_Mt = norm_mutual(link_cluster, labels_kmeans_t, average_method=\"arithmetic\")\n",
    "nmi_M_Ms = norm_mutual(link_cluster, labels_kmeans_s, average_method=\"arithmetic\")\n",
    "nmi_Ms_Mt = norm_mutual(labels_kmeans_s, labels_kmeans_t, average_method=\"arithmetic\")\n",
    "print(nmi_M_Mt, nmi_M_Ms, nmi_Ms_Mt)"
   ]
  },
  {
   "cell_type": "markdown",
   "metadata": {},
   "source": [
    "#### (METHOD 3) Using sklearn adjusted_mutual_info_score"
   ]
  },
  {
   "cell_type": "code",
   "execution_count": 54,
   "metadata": {},
   "outputs": [
    {
     "name": "stdout",
     "output_type": "stream",
     "text": [
      "0.15793056959534332 0.11857408767818622 0.0035153439511819754\n"
     ]
    }
   ],
   "source": [
    "ami_M_Mt = adj_mutual(link_cluster, labels_kmeans_t, average_method=\"arithmetic\")\n",
    "ami_M_Ms = adj_mutual(link_cluster, labels_kmeans_s, average_method=\"arithmetic\")\n",
    "ami_Ms_Mt = adj_mutual(labels_kmeans_s, labels_kmeans_t, average_method=\"arithmetic\")\n",
    "print(ami_M_Mt, ami_M_Ms, ami_Ms_Mt)"
   ]
  },
  {
   "cell_type": "code",
   "execution_count": null,
   "metadata": {},
   "outputs": [],
   "source": []
  }
 ],
 "metadata": {
  "kernelspec": {
   "display_name": "Python 3",
   "language": "python",
   "name": "python3"
  },
  "language_info": {
   "codemirror_mode": {
    "name": "ipython",
    "version": 3
   },
   "file_extension": ".py",
   "mimetype": "text/x-python",
   "name": "python",
   "nbconvert_exporter": "python",
   "pygments_lexer": "ipython3",
   "version": "3.7.4"
  }
 },
 "nbformat": 4,
 "nbformat_minor": 2
}
