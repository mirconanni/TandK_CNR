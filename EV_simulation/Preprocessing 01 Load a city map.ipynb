{
 "cells": [
  {
   "cell_type": "code",
   "execution_count": null,
   "metadata": {},
   "outputs": [],
   "source": [
    "import osmnx as ox, geopandas as gpd\n",
    "import srtm as sr\n",
    "import networkx as nx\n",
    "%matplotlib inline\n",
    "ox.config(log_file=True, log_console=True, use_cache=True)\n",
    "import numpy as np\n",
    "import pandas as pd\n",
    "import seaborn as sns\n",
    "import matplotlib.pyplot as plt\n",
    "from scipy import stats\n",
    "from haversine import haversine\n",
    "import math\n",
    "from shapely.geometry import Point, LineString"
   ]
  },
  {
   "cell_type": "code",
   "execution_count": null,
   "metadata": {},
   "outputs": [],
   "source": [
    "def caricaMappa (city,networkType):\n",
    "    return ox.graph_from_place(city, network_type=networkType)"
   ]
  },
  {
   "cell_type": "code",
   "execution_count": null,
   "metadata": {},
   "outputs": [],
   "source": [
    "#Carico la mappa della toscana\n",
    "G = caricaMappa('Tuscany, Italy','drive')"
   ]
  },
  {
   "cell_type": "code",
   "execution_count": null,
   "metadata": {},
   "outputs": [],
   "source": [
    "fig, ax = ox.plot_graph(G)"
   ]
  },
  {
   "cell_type": "code",
   "execution_count": null,
   "metadata": {},
   "outputs": [],
   "source": [
    "def salvaMappa (Graph,filename,folder,gephi):\n",
    "    ox.save_load.save_graphml(Graph, filename=filename, folder=folder, gephi=gephi)"
   ]
  },
  {
   "cell_type": "code",
   "execution_count": null,
   "metadata": {},
   "outputs": [],
   "source": [
    "#Salva il grafo su disco\n",
    "ToscanaOriginale ='toscanaoriginale.graphml'\n",
    "\n",
    "salvaMappa(G,ToscanaOriginale,None,None)"
   ]
  }
 ],
 "metadata": {
  "kernelspec": {
   "display_name": "Python 3",
   "language": "python",
   "name": "python3"
  },
  "language_info": {
   "codemirror_mode": {
    "name": "ipython",
    "version": 3
   },
   "file_extension": ".py",
   "mimetype": "text/x-python",
   "name": "python",
   "nbconvert_exporter": "python",
   "pygments_lexer": "ipython3",
   "version": "3.7.4"
  }
 },
 "nbformat": 4,
 "nbformat_minor": 2
}
